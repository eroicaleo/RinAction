{
 "cells": [
  {
   "cell_type": "code",
   "execution_count": null,
   "metadata": {},
   "outputs": [],
   "source": [
    "library('tidyverse')"
   ]
  },
  {
   "cell_type": "markdown",
   "metadata": {},
   "source": [
    "gglpot always has this form:\n",
    "```\n",
    "ggplot(data = <DATA>) + \n",
    "  <GEOM_FUNCTION>(mapping = aes(<MAPPINGS>))\n",
    "```"
   ]
  },
  {
   "cell_type": "code",
   "execution_count": null,
   "metadata": {
    "collapsed": true
   },
   "outputs": [],
   "source": [
    "ggplot(data = mpg)"
   ]
  },
  {
   "cell_type": "code",
   "execution_count": null,
   "metadata": {
    "collapsed": true
   },
   "outputs": [],
   "source": [
    "str(mpg)"
   ]
  },
  {
   "cell_type": "code",
   "execution_count": null,
   "metadata": {
    "collapsed": true
   },
   "outputs": [],
   "source": [
    "ggplot(data = mpg) +\n",
    "  geom_point(mapping = aes(x = cyl, y = hwy))"
   ]
  },
  {
   "cell_type": "code",
   "execution_count": null,
   "metadata": {
    "collapsed": true
   },
   "outputs": [],
   "source": [
    "ggplot(data = mpg) +\n",
    "  geom_point(mapping = aes(x = drv, y = class))"
   ]
  },
  {
   "cell_type": "markdown",
   "metadata": {},
   "source": [
    "## 3.3 Aesthetic mapping\n",
    "\n",
    "* aesthetic is the visual property of the objects in plot, size, shape, color, alpha (transparency), x/y location\n",
    "* map an aesthetic to a variable, associate the name of varible with that of aesthetic\n",
    "* ggplot2 assign level to aesthetic."
   ]
  },
  {
   "cell_type": "code",
   "execution_count": null,
   "metadata": {
    "collapsed": true
   },
   "outputs": [],
   "source": [
    "ggplot(data = mpg) +\n",
    "  geom_point(mapping = aes(x = displ, y = hwy), color = \"blue\", shape = 1)"
   ]
  },
  {
   "cell_type": "markdown",
   "metadata": {},
   "source": [
    "### 3.4.1 exercises"
   ]
  },
  {
   "cell_type": "code",
   "execution_count": null,
   "metadata": {
    "collapsed": true
   },
   "outputs": [],
   "source": [
    "str(mpg)"
   ]
  },
  {
   "cell_type": "code",
   "execution_count": null,
   "metadata": {},
   "outputs": [],
   "source": [
    "ggplot(data = mpg) +\n",
    "  geom_point(mapping = aes(x = displ, y = hwy, color = displ))"
   ]
  },
  {
   "cell_type": "code",
   "execution_count": null,
   "metadata": {},
   "outputs": [],
   "source": [
    "ggplot(data = mpg) +\n",
    "  geom_point(mapping = aes(x = displ, y = hwy, color = class, alpha = class), size = 2)"
   ]
  },
  {
   "cell_type": "code",
   "execution_count": null,
   "metadata": {},
   "outputs": [],
   "source": [
    "# 4:\n",
    "# For shapes that have a border (like 21), you can colour the inside and\n",
    "# outside separately. Use the stroke aesthetic to modify the width of the\n",
    "# border\n",
    "ggplot(mtcars, aes(wt, mpg)) +\n",
    "  geom_point(shape = 21, colour = \"black\", fill = \"white\", size = 5, stroke = 5)"
   ]
  },
  {
   "cell_type": "code",
   "execution_count": null,
   "metadata": {
    "collapsed": true
   },
   "outputs": [],
   "source": [
    "ggplot(data = mpg) +\n",
    "  geom_point(mapping = aes(x = displ, y = hwy, color = displ < 5))"
   ]
  },
  {
   "cell_type": "markdown",
   "metadata": {},
   "source": [
    "## 3.5 Facets"
   ]
  },
  {
   "cell_type": "code",
   "execution_count": null,
   "metadata": {
    "collapsed": true
   },
   "outputs": [],
   "source": [
    "ggplot(data = mpg) +\n",
    "  geom_point(mapping = aes(x = displ, y = hwy)) +\n",
    "  facet_wrap(~ class, nrow = 2)"
   ]
  },
  {
   "cell_type": "code",
   "execution_count": null,
   "metadata": {
    "collapsed": true
   },
   "outputs": [],
   "source": [
    "ggplot(data = mpg) +\n",
    "  geom_point(mapping = aes(x = displ, y = hwy)) +\n",
    "  facet_grid(drv ~ cyl)"
   ]
  },
  {
   "cell_type": "code",
   "execution_count": null,
   "metadata": {
    "collapsed": true
   },
   "outputs": [],
   "source": [
    "ggplot(data = mpg) +\n",
    "  geom_point(mapping = aes(x = displ, y = hwy)) +\n",
    "  facet_grid(. ~ cyl)"
   ]
  },
  {
   "cell_type": "markdown",
   "metadata": {},
   "source": [
    "### 3.5.1"
   ]
  },
  {
   "cell_type": "code",
   "execution_count": null,
   "metadata": {
    "collapsed": true
   },
   "outputs": [],
   "source": [
    "# 1.\n",
    "str(mpg)\n",
    "# ggplot(data = mpg) +\n",
    "#  geom_point(mapping = aes(x = displ, y = hwy)) +\n",
    "#  facet_grid(. ~ displ)"
   ]
  },
  {
   "cell_type": "code",
   "execution_count": null,
   "metadata": {
    "collapsed": true
   },
   "outputs": [],
   "source": [
    "# 3.\n",
    "ggplot(data = mpg) + \n",
    "  geom_point(mapping = aes(x = displ, y = hwy)) +\n",
    "  facet_grid(drv ~ .)"
   ]
  },
  {
   "cell_type": "code",
   "execution_count": null,
   "metadata": {
    "collapsed": true
   },
   "outputs": [],
   "source": [
    "# 5. because facet_wrap is for 1-d. facet_wrap is for 2-d.\n",
    "# 6. We don't have much space in a row."
   ]
  },
  {
   "cell_type": "markdown",
   "metadata": {},
   "source": [
    "## 3.6 Geometric objects\n",
    "\n",
    "* geom is geometrical object that a plot uses to represent data\n",
    "* geom_smooth takes \"linetype\" aesthetic\n",
    "* We can have multiple geoms on one plot, then it necessary to move mapping to ggplot()\n",
    "    * And then we can have localized customization for different geoms"
   ]
  },
  {
   "cell_type": "code",
   "execution_count": null,
   "metadata": {
    "collapsed": true
   },
   "outputs": [],
   "source": [
    "ggplot(data = mpg) + \n",
    "  geom_smooth(mapping = aes(x = displ, y = hwy, linetype = drv, color = drv)) +\n",
    "  geom_point(mapping = aes(x = displ, y = hwy, shape = drv, color = drv))"
   ]
  },
  {
   "cell_type": "code",
   "execution_count": null,
   "metadata": {
    "collapsed": true
   },
   "outputs": [],
   "source": [
    "ggplot(data = mpg, mapping = aes(x = displ, y = hwy)) +\n",
    "  geom_point(mapping = aes(color = class)) +\n",
    "    geom_smooth()"
   ]
  },
  {
   "cell_type": "code",
   "execution_count": null,
   "metadata": {
    "collapsed": true
   },
   "outputs": [],
   "source": [
    "ggplot(data = mpg, mapping = aes(x = displ, y = hwy)) +\n",
    "  geom_point(mapping = aes(color = class)) +\n",
    "    geom_smooth(data = filter(mpg, class == \"subcompact\"), se = FALSE)"
   ]
  },
  {
   "cell_type": "markdown",
   "metadata": {},
   "source": [
    "### 3.6.1 Exercises"
   ]
  },
  {
   "cell_type": "code",
   "execution_count": null,
   "metadata": {
    "collapsed": true
   },
   "outputs": [],
   "source": [
    "# 6.1\n",
    "ggplot(data = mpg, mapping = aes(x = displ, y = hwy)) + \n",
    "  geom_point() + \n",
    "  geom_smooth()"
   ]
  },
  {
   "cell_type": "code",
   "execution_count": null,
   "metadata": {
    "collapsed": true
   },
   "outputs": [],
   "source": [
    "ggplot() + \n",
    "  geom_point(data = mpg, mapping = aes(x = displ, y = hwy)) + \n",
    "  geom_smooth(data = mpg, mapping = aes(x = displ, y = hwy))"
   ]
  },
  {
   "cell_type": "code",
   "execution_count": null,
   "metadata": {
    "collapsed": true
   },
   "outputs": [],
   "source": [
    "ggplot(data = mpg, mapping = aes(x = displ, y = hwy)) +\n",
    "    geom_point(mapping = aes(color = drv)) +\n",
    "    geom_smooth(se = FALSE)"
   ]
  },
  {
   "cell_type": "code",
   "execution_count": null,
   "metadata": {
    "collapsed": true
   },
   "outputs": [],
   "source": [
    "ggplot(data = mpg, mapping = aes(x = displ, y = hwy)) +\n",
    "    geom_point(mapping = aes(color = drv)) +\n",
    "    geom_smooth(mapping = aes(linetype = drv), se = FALSE)"
   ]
  },
  {
   "cell_type": "code",
   "execution_count": null,
   "metadata": {
    "collapsed": true
   },
   "outputs": [],
   "source": [
    "# 6.6\n",
    "ggplot(data = mpg, mapping = aes(x = displ, y = hwy)) +\n",
    "    geom_point(color = \"white\", size = 4) +\n",
    "  geom_point(mapping = aes(color = drv))\n",
    "\n",
    "#      geom_point(color = \"white\", size = 2) +"
   ]
  },
  {
   "cell_type": "markdown",
   "metadata": {},
   "source": [
    "## 3.7 Statistical transformations\n",
    "\n",
    "* bar plot uses count as y, but the dataset doesn't contain count. geom_bar do the statistic transformation.\n",
    "  Other geoms do the transfomration like:\n",
    "    * bars, histogram, frequency ploygon: bin your data and then plot bin counts\n",
    "    * smoothers: fit a model\n",
    "    * boxplots: compute robust summary\n",
    "* You can generally use geoms and stats interchangeably. For example, you can recreate the previous plot using       `stat_count()` instead of `geom_bar()`. We can do this because every geom has a default stat; and every stat has a default geom.\n",
    "* 3 cases we might want to use other stat other than the default one:\n",
    "    * override the default stat\n",
    "    * override the default mapping from transformed variables to aesthetics\n",
    "    * want to draw greater attention to the statistical transformation in your code, e.g. if you use \n",
    "* To see a complete list of stats, try the ggplot2 cheatsheet"
   ]
  },
  {
   "cell_type": "code",
   "execution_count": null,
   "metadata": {},
   "outputs": [],
   "source": [
    "summary(diamonds)"
   ]
  },
  {
   "cell_type": "code",
   "execution_count": null,
   "metadata": {},
   "outputs": [],
   "source": [
    "ggplot(data = diamonds) +\n",
    "    geom_bar(mapping = aes(x = cut, fill = cut))"
   ]
  },
  {
   "cell_type": "code",
   "execution_count": null,
   "metadata": {},
   "outputs": [],
   "source": [
    "demo <- tribble(\n",
    "  ~cut,         ~freq,\n",
    "  \"Fair\",       1610,\n",
    "  \"Good\",       4906,\n",
    "  \"Very Good\",  12082,\n",
    "  \"Premium\",    13791,\n",
    "  \"Ideal\",      21551\n",
    ")\n",
    "summary(demo)"
   ]
  },
  {
   "cell_type": "code",
   "execution_count": null,
   "metadata": {},
   "outputs": [],
   "source": [
    "ggplot(data = demo) +\n",
    "    geom_bar(mapping = aes(x = cut, y = freq), stat = \"identity\")"
   ]
  },
  {
   "cell_type": "code",
   "execution_count": null,
   "metadata": {},
   "outputs": [],
   "source": [
    "ggplot(data = diamonds) +\n",
    "    geom_bar(mapping = aes(x = cut, y = ..prop.., group = 1))"
   ]
  },
  {
   "cell_type": "markdown",
   "metadata": {},
   "source": [
    "### 3.7.1 Exercises"
   ]
  },
  {
   "cell_type": "code",
   "execution_count": null,
   "metadata": {},
   "outputs": [],
   "source": [
    "# 1. geom_pointrange is associated with stat_summary()\n",
    "ggplot(data = diamonds) +\n",
    "    geom_pointrange(mapping = aes(x = cut, y = depth), stat = \"summary\",\n",
    "                    fun.ymin = min, fun.ymax = max, fun.y = median)"
   ]
  },
  {
   "cell_type": "code",
   "execution_count": null,
   "metadata": {},
   "outputs": [],
   "source": [
    "# 2. geom does geom_bar(stat = \"identity\")\n",
    "ggplot(data = demo) +\n",
    "    geom_col(mapping = aes(x = cut, y = freq))"
   ]
  },
  {
   "cell_type": "code",
   "execution_count": null,
   "metadata": {
    "collapsed": true
   },
   "outputs": [],
   "source": [
    "# 3. See: http://ggplot2.tidyverse.org/reference/index.html#section-layer-geoms"
   ]
  },
  {
   "cell_type": "code",
   "execution_count": null,
   "metadata": {
    "collapsed": true
   },
   "outputs": [],
   "source": [
    "# 4. stat_smooth computed variables: y/y_min/y_max/se. method/formula/span."
   ]
  },
  {
   "cell_type": "code",
   "execution_count": null,
   "metadata": {},
   "outputs": [],
   "source": [
    "# 5. The problem with the following code is that it treats each combination\n",
    "# of cut and color as one group, so the proportion is always 1 (100%)\n",
    "# But our intention is to treat all data as one group\n",
    "ggplot(data = diamonds) + \n",
    "  geom_bar(mapping = aes(x = cut, fill = color, y = ..prop..))"
   ]
  }
 ],
 "metadata": {
  "kernelspec": {
   "display_name": "R",
   "language": "R",
   "name": "ir"
  },
  "language_info": {
   "codemirror_mode": "r",
   "file_extension": ".r",
   "mimetype": "text/x-r-source",
   "name": "R",
   "pygments_lexer": "r",
   "version": "3.4.0"
  }
 },
 "nbformat": 4,
 "nbformat_minor": 2
}
