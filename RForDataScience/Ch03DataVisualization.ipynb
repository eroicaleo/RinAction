{
 "cells": [
  {
   "cell_type": "code",
   "execution_count": null,
   "metadata": {},
   "outputs": [],
   "source": [
    "library('tidyverse')"
   ]
  },
  {
   "cell_type": "markdown",
   "metadata": {},
   "source": [
    "gglpot always has this form:\n",
    "```\n",
    "ggplot(data = <DATA>) + \n",
    "  <GEOM_FUNCTION>(mapping = aes(<MAPPINGS>))\n",
    "```"
   ]
  },
  {
   "cell_type": "code",
   "execution_count": null,
   "metadata": {
    "collapsed": true
   },
   "outputs": [],
   "source": [
    "ggplot(data = mpg)"
   ]
  },
  {
   "cell_type": "code",
   "execution_count": null,
   "metadata": {
    "collapsed": true
   },
   "outputs": [],
   "source": [
    "str(mpg)"
   ]
  },
  {
   "cell_type": "code",
   "execution_count": null,
   "metadata": {
    "collapsed": true
   },
   "outputs": [],
   "source": [
    "ggplot(data = mpg) +\n",
    "  geom_point(mapping = aes(x = cyl, y = hwy))"
   ]
  },
  {
   "cell_type": "code",
   "execution_count": null,
   "metadata": {
    "collapsed": true
   },
   "outputs": [],
   "source": [
    "ggplot(data = mpg) +\n",
    "  geom_point(mapping = aes(x = drv, y = class))"
   ]
  },
  {
   "cell_type": "markdown",
   "metadata": {},
   "source": [
    "## 3.3 Aesthetic mapping\n",
    "\n",
    "* aesthetic is the visual property of the objects in plot, size, shape, color, alpha (transparency), x/y location\n",
    "* map an aesthetic to a variable, associate the name of varible with that of aesthetic\n",
    "* ggplot2 assign level to aesthetic."
   ]
  },
  {
   "cell_type": "code",
   "execution_count": null,
   "metadata": {},
   "outputs": [],
   "source": [
    "ggplot(data = mpg) +\n",
    "  geom_point(mapping = aes(x = displ, y = hwy), color = \"blue\", shape = 1)"
   ]
  },
  {
   "cell_type": "markdown",
   "metadata": {},
   "source": [
    "# 3.4.1 exercises"
   ]
  },
  {
   "cell_type": "code",
   "execution_count": null,
   "metadata": {},
   "outputs": [],
   "source": [
    "str(mpg)"
   ]
  },
  {
   "cell_type": "code",
   "execution_count": null,
   "metadata": {},
   "outputs": [],
   "source": [
    "ggplot(data = mpg) +\n",
    "  geom_point(mapping = aes(x = displ, y = hwy, color = displ))"
   ]
  },
  {
   "cell_type": "code",
   "execution_count": null,
   "metadata": {},
   "outputs": [],
   "source": [
    "ggplot(data = mpg) +\n",
    "  geom_point(mapping = aes(x = displ, y = hwy, color = class, alpha = class))"
   ]
  },
  {
   "cell_type": "code",
   "execution_count": null,
   "metadata": {},
   "outputs": [],
   "source": [
    "# 4:\n",
    "# For shapes that have a border (like 21), you can colour the inside and\n",
    "# outside separately. Use the stroke aesthetic to modify the width of the\n",
    "# border\n",
    "ggplot(mtcars, aes(wt, mpg)) +\n",
    "  geom_point(shape = 21, colour = \"black\", fill = \"white\", size = 5, stroke = 5)"
   ]
  },
  {
   "cell_type": "code",
   "execution_count": null,
   "metadata": {},
   "outputs": [],
   "source": [
    "ggplot(data = mpg) +\n",
    "  geom_point(mapping = aes(x = displ, y = hwy, color = displ < 5))"
   ]
  }
 ],
 "metadata": {
  "kernelspec": {
   "display_name": "R",
   "language": "R",
   "name": "ir"
  },
  "language_info": {
   "codemirror_mode": "r",
   "file_extension": ".r",
   "mimetype": "text/x-r-source",
   "name": "R",
   "pygments_lexer": "r",
   "version": "3.4.0"
  }
 },
 "nbformat": 4,
 "nbformat_minor": 2
}
