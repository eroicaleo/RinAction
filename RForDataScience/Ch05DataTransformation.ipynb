{
 "cells": [
  {
   "cell_type": "code",
   "execution_count": null,
   "metadata": {
    "collapsed": true
   },
   "outputs": [],
   "source": [
    "library(nycflights13)\n",
    "library(tidyverse)"
   ]
  },
  {
   "cell_type": "markdown",
   "metadata": {},
   "source": [
    "# All notes\n",
    "## 5.1 Introduction"
   ]
  },
  {
   "cell_type": "markdown",
   "metadata": {},
   "source": [
    "* filter, pick observations\n",
    "* arrange, reorder the row\n",
    "* select, pick the variables by name\n",
    "* mutate, create variable with functions of existing variables\n",
    "* summarise, Collapse many values down to a single summary\n",
    "* group_by, used in conjunction with the above, apply it on different groups"
   ]
  },
  {
   "cell_type": "markdown",
   "metadata": {},
   "source": [
    "Use them similarly:\n",
    "\n",
    "1. The first arg is a dataframe\n",
    "2. The subsequent arguments describe what to do with the DF, variable names without quote\n",
    "3. result is a new DF."
   ]
  },
  {
   "cell_type": "markdown",
   "metadata": {},
   "source": [
    "## 5.2 filter() notes\n",
    "* If we want to both assign to a variable and print out, use ()\n",
    "* Comparison operators: `>, >=, <, <=, !=, ==`\n",
    "    * when compare numerical, use `near(sqrt(2)^2, 2)`\n",
    "* Logic operators: `&, |, !`\n",
    "    * handy shorthand: `x %in% y`\n",
    "* Almost all operations with `NA` is `NA`.\n",
    "* Filter only includes rows where the condition is `TRUE`, excludes both `NA` and `FALSE`\n",
    "\n",
    "## 5.3 arrange() notes\n",
    "* arrange() change the order of the rows.\n",
    "* use desc() to reverse the order.\n",
    "* NA is always at the end, no matter ascending or desending\n",
    "\n",
    "## 5.4 select() notes\n",
    "\n",
    "* Select couple of variables\n",
    "* Have a couple of helper functions\n",
    "    * Like `starts_with` and `matches`, see ?select_helpers\n",
    "* rename function to change variable name\n",
    "* everthing helper function to bring a variable to the front\n",
    "\n",
    "## 5.5 mutate() notes\n",
    "\n",
    "* `mutate()` can use the variable just created\n",
    "* `transmute()` only keeps the new variables\n",
    "* Useful creation functions, take in vectors and produce vectors\n",
    "    * Arithmetic operators: +/-/*/ / /^\n",
    "    * Arithmetic operators with aggregate functions: x/sum(x)\n",
    "    * module %/%, %%\n",
    "    * logs\n",
    "    * offset: lead/lag, useful in computing running difference or find when value changes.\n",
    "    * cumulative function\n",
    "    * ranking functions: min_rank() and etc. see ?min_rank\n",
    "\n",
    "## 5.6 summarise() notes\n",
    "\n",
    "* collapse a data frame to a single row\n",
    "* More useful with group_by\n",
    "* Use pipe %>% is much easier to coding and reading\n",
    "    * x %>% f(y) %>% g(z) <=> g(f(x, y), z)\n",
    "    * example here:\n",
    "\n",
    "```\n",
    "delays <- flights %>% \n",
    "  group_by(dest) %>% \n",
    "  summarise(\n",
    "    count = n(),\n",
    "    dist = mean(distance, na.rm = TRUE),\n",
    "    delay = mean(arr_delay, na.rm = TRUE)\n",
    "  ) %>% \n",
    "  filter(count > 20, dest != \"HNL\")\n",
    "```\n",
    "* missing value, mean function has na.rm.\n",
    "    * But you can also do filter like "
   ]
  },
  {
   "cell_type": "markdown",
   "metadata": {},
   "source": [
    "## 5.2 filter()"
   ]
  },
  {
   "cell_type": "code",
   "execution_count": null,
   "metadata": {
    "collapsed": true
   },
   "outputs": [],
   "source": [
    "flights"
   ]
  },
  {
   "cell_type": "code",
   "execution_count": null,
   "metadata": {
    "collapsed": true
   },
   "outputs": [],
   "source": [
    "(jan1 <- filter(flights, month == 1, day == 1))"
   ]
  },
  {
   "cell_type": "code",
   "execution_count": null,
   "metadata": {
    "collapsed": true
   },
   "outputs": [],
   "source": [
    "filter(flights, arr_delay <= 120 & dep_delay <= 120)"
   ]
  },
  {
   "cell_type": "code",
   "execution_count": null,
   "metadata": {
    "collapsed": true
   },
   "outputs": [],
   "source": [
    "df <- tibble(x = c(1, NA, 3))\n",
    "filter(df, x > 1)"
   ]
  },
  {
   "cell_type": "code",
   "execution_count": null,
   "metadata": {
    "collapsed": true
   },
   "outputs": [],
   "source": [
    "filter(df, is.na(x) | x > 1)"
   ]
  },
  {
   "cell_type": "markdown",
   "metadata": {},
   "source": [
    "### 5.2.1 Exercise"
   ]
  },
  {
   "cell_type": "code",
   "execution_count": null,
   "metadata": {
    "collapsed": true
   },
   "outputs": [],
   "source": [
    "# 1.1 Had an arrival delay of two or more hours\n",
    "filter(flights, arr_delay >= 2)"
   ]
  },
  {
   "cell_type": "code",
   "execution_count": null,
   "metadata": {
    "collapsed": true
   },
   "outputs": [],
   "source": [
    "# Flew to Houston (IAH or HOU)\n",
    "filter(flights, dest %in% c(\"IAH\", \"HOU\"))"
   ]
  },
  {
   "cell_type": "code",
   "execution_count": null,
   "metadata": {
    "collapsed": true
   },
   "outputs": [],
   "source": [
    "# Were operated by United, American, or Delta\n",
    "filter(flights, carrier %in% c(\"UA\", \"AA\", \"DL\"))"
   ]
  },
  {
   "cell_type": "code",
   "execution_count": null,
   "metadata": {
    "collapsed": true
   },
   "outputs": [],
   "source": [
    "# Departed in summer (July, August, and September)\n",
    "filter(flights, month %in% c(7, 8, 9))"
   ]
  },
  {
   "cell_type": "code",
   "execution_count": null,
   "metadata": {
    "collapsed": true
   },
   "outputs": [],
   "source": [
    "filter(flights, is.na(dep_time))"
   ]
  },
  {
   "cell_type": "code",
   "execution_count": null,
   "metadata": {
    "collapsed": true
   },
   "outputs": [],
   "source": [
    "filter(flights, dep_delay >= 60 & arr_delay <= 30)"
   ]
  },
  {
   "cell_type": "code",
   "execution_count": null,
   "metadata": {
    "collapsed": true
   },
   "outputs": [],
   "source": [
    "filter(flights, dep_time >= 0 & dep_time <= 600)"
   ]
  }
 ],
 "metadata": {
  "kernelspec": {
   "display_name": "R",
   "language": "R",
   "name": "ir"
  },
  "language_info": {
   "codemirror_mode": "r",
   "file_extension": ".r",
   "mimetype": "text/x-r-source",
   "name": "R",
   "pygments_lexer": "r",
   "version": "3.4.0"
  }
 },
 "nbformat": 4,
 "nbformat_minor": 2
}
