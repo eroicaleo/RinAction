{
 "cells": [
  {
   "cell_type": "code",
   "execution_count": null,
   "metadata": {},
   "outputs": [],
   "source": [
    "library(nycflights13)\n",
    "library(tidyverse)"
   ]
  },
  {
   "cell_type": "markdown",
   "metadata": {},
   "source": [
    "# All notes\n",
    "## 5.1 Introduction"
   ]
  },
  {
   "cell_type": "markdown",
   "metadata": {},
   "source": [
    "* filter, pick observations\n",
    "* arrange, reorder the row\n",
    "* select, pick the variables by name\n",
    "* mutate, create variable with functions of existing variables\n",
    "* summarise, Collapse many values down to a single summary\n",
    "* group_by, used in conjunction with the above, apply it on different groups"
   ]
  },
  {
   "cell_type": "markdown",
   "metadata": {},
   "source": [
    "Use them similarly:\n",
    "\n",
    "1. The first arg is a dataframe\n",
    "2. The subsequent arguments describe what to do with the DF, variable names without quote\n",
    "3. result is a new DF."
   ]
  },
  {
   "cell_type": "markdown",
   "metadata": {},
   "source": [
    "## 5.2 filter() notes\n",
    "* If we want to both assign to a variable and print out, use ()\n",
    "* Comparison operators: `>, >=, <, <=, !=, ==`\n",
    "    * when compare numerical, use `near(sqrt(2)^2, 2)`\n",
    "* Logic operators: `&, |, !`\n",
    "    * handy shorthand: `x %in% y`\n",
    "* Almost all operations with `NA` is `NA`.\n",
    "* Filter only includes rows where the condition is `TRUE`, excludes both `NA` and `FALSE`\n",
    "\n",
    "## 5.3 arrange() notes\n",
    "* arrange() change the order of the rows.\n",
    "* use desc() to reverse the order.\n",
    "* NA is always at the end, no matter ascending or desending"
   ]
  },
  {
   "cell_type": "markdown",
   "metadata": {},
   "source": [
    "## 5.2 filter()"
   ]
  },
  {
   "cell_type": "code",
   "execution_count": null,
   "metadata": {
    "collapsed": true
   },
   "outputs": [],
   "source": [
    "flights"
   ]
  },
  {
   "cell_type": "code",
   "execution_count": null,
   "metadata": {
    "collapsed": true
   },
   "outputs": [],
   "source": [
    "(jan1 <- filter(flights, month == 1, day == 1))"
   ]
  },
  {
   "cell_type": "code",
   "execution_count": null,
   "metadata": {
    "collapsed": true
   },
   "outputs": [],
   "source": [
    "filter(flights, arr_delay <= 120 & dep_delay <= 120)"
   ]
  },
  {
   "cell_type": "code",
   "execution_count": null,
   "metadata": {
    "collapsed": true
   },
   "outputs": [],
   "source": [
    "df <- tibble(x = c(1, NA, 3))\n",
    "filter(df, x > 1)"
   ]
  },
  {
   "cell_type": "code",
   "execution_count": null,
   "metadata": {
    "collapsed": true
   },
   "outputs": [],
   "source": [
    "filter(df, is.na(x) | x > 1)"
   ]
  },
  {
   "cell_type": "markdown",
   "metadata": {},
   "source": [
    "### 5.2.1 Exercise"
   ]
  },
  {
   "cell_type": "code",
   "execution_count": null,
   "metadata": {
    "collapsed": true
   },
   "outputs": [],
   "source": [
    "# 1.1 Had an arrival delay of two or more hours\n",
    "filter(flights, arr_delay >= 2)"
   ]
  },
  {
   "cell_type": "code",
   "execution_count": null,
   "metadata": {
    "collapsed": true
   },
   "outputs": [],
   "source": [
    "# Flew to Houston (IAH or HOU)\n",
    "filter(flights, dest %in% c(\"IAH\", \"HOU\"))"
   ]
  },
  {
   "cell_type": "code",
   "execution_count": null,
   "metadata": {
    "collapsed": true
   },
   "outputs": [],
   "source": [
    "# Were operated by United, American, or Delta\n",
    "filter(flights, carrier %in% c(\"UA\", \"AA\", \"DL\"))"
   ]
  },
  {
   "cell_type": "code",
   "execution_count": null,
   "metadata": {
    "collapsed": true
   },
   "outputs": [],
   "source": [
    "# Departed in summer (July, August, and September)\n",
    "filter(flights, month %in% c(7, 8, 9))"
   ]
  },
  {
   "cell_type": "code",
   "execution_count": null,
   "metadata": {
    "collapsed": true
   },
   "outputs": [],
   "source": [
    "filter(flights, is.na(dep_time))"
   ]
  },
  {
   "cell_type": "code",
   "execution_count": null,
   "metadata": {
    "collapsed": true
   },
   "outputs": [],
   "source": [
    "filter(flights, dep_delay >= 60 & arr_delay <= 30)"
   ]
  },
  {
   "cell_type": "code",
   "execution_count": null,
   "metadata": {
    "collapsed": true
   },
   "outputs": [],
   "source": [
    "filter(flights, dep_time >= 0 & dep_time <= 600)"
   ]
  }
 ],
 "metadata": {
  "kernelspec": {
   "display_name": "R",
   "language": "R",
   "name": "ir"
  },
  "language_info": {
   "codemirror_mode": "r",
   "file_extension": ".r",
   "mimetype": "text/x-r-source",
   "name": "R",
   "pygments_lexer": "r",
   "version": "3.4.0"
  }
 },
 "nbformat": 4,
 "nbformat_minor": 2
}
