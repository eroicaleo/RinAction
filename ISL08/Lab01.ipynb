{
 "cells": [
  {
   "cell_type": "markdown",
   "metadata": {},
   "source": [
    "* Summary\n",
    "\n",
    "* load package `tree`\n",
    "* train the model: `model <- tree(formula = ..., data = ...)`\n",
    "* summary: `summary(model)`\n",
    "* draw the tree:\n",
    "    * `plot(model)`\n",
    "    * annotate: `text(model, pretty = 0)`\n",
    "* print out details: just type the model `model`\n",
    "* make prediction: `tree.pred <- predict(tree.carseats, CarseatsNew[-train,], type = \"class\")`\n",
    "* prune trees: `prune.carseats <- prune.misclass(tree.carseats, best = 13)`\n",
    "* CV: `cv.carserts <- cv.tree(tree.carseats, FUN = prune.misclass)`\n",
    "    * you can print the CV, you will see the number of nodes, deviance and so on.\n",
    "\n",
    "* Question\n",
    "\n",
    "* For the default use of tree, what is the stop criterion, I see some of nodes have 5 data, some of them\n",
    "  have 26 of data"
   ]
  },
  {
   "cell_type": "code",
   "execution_count": null,
   "metadata": {},
   "outputs": [],
   "source": [
    "require(tree)\n",
    "require(ISLR)"
   ]
  },
  {
   "cell_type": "code",
   "execution_count": null,
   "metadata": {},
   "outputs": [],
   "source": [
    "require(tidyverse)"
   ]
  },
  {
   "cell_type": "code",
   "execution_count": null,
   "metadata": {},
   "outputs": [],
   "source": [
    "summary(Carseats)"
   ]
  },
  {
   "cell_type": "code",
   "execution_count": null,
   "metadata": {
    "collapsed": true
   },
   "outputs": [],
   "source": [
    "ggplot(data = Carseats) +\n",
    "    geom_histogram(mapping = aes(x = Sales), binwidth = 2)"
   ]
  },
  {
   "cell_type": "code",
   "execution_count": null,
   "metadata": {
    "collapsed": true
   },
   "outputs": [],
   "source": [
    "High <- ifelse(Carseats$Sales <= 8, \"No\", \"Yes\")"
   ]
  },
  {
   "cell_type": "code",
   "execution_count": null,
   "metadata": {},
   "outputs": [],
   "source": [
    "CarseatsNew <- transform(Carseats, High = High)"
   ]
  },
  {
   "cell_type": "code",
   "execution_count": null,
   "metadata": {
    "collapsed": true
   },
   "outputs": [],
   "source": [
    "tree.carseats <- tree(data = CarseatsNew, formula =  High ~ . - Sales)"
   ]
  },
  {
   "cell_type": "code",
   "execution_count": null,
   "metadata": {},
   "outputs": [],
   "source": [
    "summary(tree.carseats)"
   ]
  },
  {
   "cell_type": "code",
   "execution_count": null,
   "metadata": {
    "collapsed": true
   },
   "outputs": [],
   "source": [
    "plot(tree.carseats)\n",
    "text(tree.carseats, pretty = 0)"
   ]
  },
  {
   "cell_type": "code",
   "execution_count": null,
   "metadata": {
    "collapsed": true
   },
   "outputs": [],
   "source": [
    "tree.carseats"
   ]
  },
  {
   "cell_type": "markdown",
   "metadata": {},
   "source": [
    "## Part 2: divide training and testing"
   ]
  },
  {
   "cell_type": "code",
   "execution_count": null,
   "metadata": {},
   "outputs": [],
   "source": [
    "set.seed(1011)\n",
    "train <- sample(1:nrow(Carseats), 250)\n",
    "# head(train)\n",
    "tree.carseats <- tree(High ~ . - Sales, CarseatsNew, subset = train)"
   ]
  },
  {
   "cell_type": "code",
   "execution_count": null,
   "metadata": {
    "collapsed": true
   },
   "outputs": [],
   "source": [
    "plot(tree.carseats)\n",
    "text(tree.carseats, pretty = 0)"
   ]
  },
  {
   "cell_type": "code",
   "execution_count": null,
   "metadata": {
    "collapsed": true
   },
   "outputs": [],
   "source": [
    "tree.pred <- predict(tree.carseats, CarseatsNew[-train,], type = \"class\")\n",
    "tree.pred"
   ]
  },
  {
   "cell_type": "code",
   "execution_count": null,
   "metadata": {},
   "outputs": [],
   "source": [
    "with(CarseatsNew[-train,], table(tree.pred, High))"
   ]
  },
  {
   "cell_type": "markdown",
   "metadata": {},
   "source": [
    "## Part 3 cross validation"
   ]
  },
  {
   "cell_type": "code",
   "execution_count": null,
   "metadata": {
    "collapsed": true
   },
   "outputs": [],
   "source": [
    "cv.carserts <- cv.tree(tree.carseats, FUN = prune.misclass)"
   ]
  },
  {
   "cell_type": "code",
   "execution_count": null,
   "metadata": {},
   "outputs": [],
   "source": [
    "cv.carserts"
   ]
  },
  {
   "cell_type": "code",
   "execution_count": null,
   "metadata": {
    "collapsed": true
   },
   "outputs": [],
   "source": [
    "plot(cv.carserts)"
   ]
  },
  {
   "cell_type": "code",
   "execution_count": null,
   "metadata": {
    "collapsed": true
   },
   "outputs": [],
   "source": [
    "prune.carseats <- prune.misclass(tree.carseats, best = 13)\n",
    "plot(prune.carseats); text(prune.carseats)"
   ]
  },
  {
   "cell_type": "code",
   "execution_count": null,
   "metadata": {},
   "outputs": [],
   "source": [
    "tree.pred <- predict(prune.carseats, CarseatsNew[-train,], type = \"class\")\n",
    "with(CarseatsNew[-train,], table(tree.pred, High))"
   ]
  }
 ],
 "metadata": {
  "kernelspec": {
   "display_name": "R",
   "language": "R",
   "name": "ir"
  },
  "language_info": {
   "codemirror_mode": "r",
   "file_extension": ".r",
   "mimetype": "text/x-r-source",
   "name": "R",
   "pygments_lexer": "r",
   "version": "3.4.0"
  }
 },
 "nbformat": 4,
 "nbformat_minor": 2
}
