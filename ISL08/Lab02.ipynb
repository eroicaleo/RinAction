{
 "cells": [
  {
   "cell_type": "markdown",
   "metadata": {},
   "source": [
    "# Summary\n",
    "\n",
    "* Train the model: `rf.boston <- randomForest(medv ~ . - medv, data = Boston, subset = train)`\n",
    "    * The \"Mean of squared residuals\" is the out of bag residuals\n",
    "    * mtry is the # of predictors used in each split\n",
    "    * mse is an vector, corresponds to the number of tree\n",
    "* Make prediction\n",
    "    * pred <- predict(fit, Boston[-train,])\n",
    "    \n",
    "## Boosting"
   ]
  },
  {
   "cell_type": "markdown",
   "metadata": {},
   "source": [
    "# Random forest "
   ]
  },
  {
   "cell_type": "code",
   "execution_count": null,
   "metadata": {},
   "outputs": [],
   "source": [
    "require(randomForest)\n",
    "require(MASS)"
   ]
  },
  {
   "cell_type": "code",
   "execution_count": null,
   "metadata": {
    "collapsed": true
   },
   "outputs": [],
   "source": [
    "set.seed(101)"
   ]
  },
  {
   "cell_type": "code",
   "execution_count": null,
   "metadata": {},
   "outputs": [],
   "source": [
    "dim(Boston)"
   ]
  },
  {
   "cell_type": "code",
   "execution_count": null,
   "metadata": {
    "collapsed": true
   },
   "outputs": [],
   "source": [
    "train <- sample(1:nrow(Boston), 300)"
   ]
  },
  {
   "cell_type": "code",
   "execution_count": null,
   "metadata": {},
   "outputs": [],
   "source": [
    "length(train)"
   ]
  },
  {
   "cell_type": "code",
   "execution_count": null,
   "metadata": {
    "collapsed": true
   },
   "outputs": [],
   "source": [
    "rf.boston <- randomForest(medv ~ ., data = Boston, subset = train)\n",
    "str(rf.boston)"
   ]
  },
  {
   "cell_type": "code",
   "execution_count": null,
   "metadata": {},
   "outputs": [],
   "source": [
    "oob.err = double(13)\n",
    "test.err = double(13)\n",
    "for (mtry in 1:13) {\n",
    "    fit <- randomForest(medv ~ ., data = Boston, subset = train, mtry = mtry, ntree = 400)\n",
    "    oob.err[mtry] <- fit$mse[400]\n",
    "    pred <- predict(fit, Boston[-train,])\n",
    "    test.err[mtry] <- with(Boston[-train,], mean((pred-medv)^2))\n",
    "    cat(mtry, \"\")\n",
    "}"
   ]
  },
  {
   "cell_type": "code",
   "execution_count": null,
   "metadata": {},
   "outputs": [],
   "source": [
    "matplot(1:mtry, cbind(test.err, oob.err), pch = 19, col = c(\"red\", \"blue\"), type = \"b\")\n",
    "legend(\"topright\", legend = c(\"Test\", \"OOB\"), pch = 19, col = c(\"red\", \"blue\"))"
   ]
  },
  {
   "cell_type": "code",
   "execution_count": null,
   "metadata": {
    "collapsed": true
   },
   "outputs": [],
   "source": []
  }
 ],
 "metadata": {
  "kernelspec": {
   "display_name": "R",
   "language": "R",
   "name": "ir"
  },
  "language_info": {
   "codemirror_mode": "r",
   "file_extension": ".r",
   "mimetype": "text/x-r-source",
   "name": "R",
   "pygments_lexer": "r",
   "version": "3.4.0"
  }
 },
 "nbformat": 4,
 "nbformat_minor": 2
}
