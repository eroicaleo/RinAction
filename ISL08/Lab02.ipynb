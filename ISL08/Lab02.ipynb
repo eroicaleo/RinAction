{
 "cells": [
  {
   "cell_type": "markdown",
   "metadata": {},
   "source": [
    "# Summary\n",
    "\n",
    "## Random Forest\n",
    "* Train the model: `rf.boston <- randomForest(medv ~ . - medv, data = Boston, subset = train)`\n",
    "    * The \"Mean of squared residuals\" is the out of bag residuals\n",
    "    * mtry is the # of predictors used in each split\n",
    "    * mse is an vector, corresponds to the number of tree\n",
    "* Make prediction\n",
    "    * pred <- predict(fit, Boston[-train,])\n",
    "* The only tuning parameter is `mtry`, i.e. the number of predictors in each split.\n",
    "    \n",
    "## Boosting\n",
    "\n",
    "* Train the model: `boost.boston <- gbm(medv ~ ., data = Boston[train,], distribution = \"gaussian\", n.trees = 10000, shrinkage = 0.01, interaction.depth = 4)`\n",
    "    * `interaction.depth` is the number of splits in each tree.\n",
    "    * `distribution = \"gaussian\"` squared error\n",
    "* When do the `summary`， print out the importance graph\n",
    "* plot the relation with one variable: `plot(boost.boston, i = \"lstat\")`\n",
    "* Make prediction: `predmat <- predict(boost.boston, newdata = Boston[-train,], n.trees = n.trees)`\n",
    "    * `n.trees` can be a sequence\n",
    "* A trick: `apply((predmat-medv)^2, 2, mean)`\n",
    "    * Note `predmat` is a matrix but `medv` is a vector, `medv` is reused in each row.\n",
    "* The tuning parameters are: # of trees, shrinkage parameter and depth."
   ]
  },
  {
   "cell_type": "markdown",
   "metadata": {},
   "source": [
    "# Boosting"
   ]
  },
  {
   "cell_type": "code",
   "execution_count": null,
   "metadata": {},
   "outputs": [],
   "source": [
    "require(gbm)\n",
    "require(tidyverse)"
   ]
  },
  {
   "cell_type": "code",
   "execution_count": null,
   "metadata": {
    "collapsed": true
   },
   "outputs": [],
   "source": [
    "boost.boston <- gbm(medv ~ ., data = Boston[train,], distribution = \"gaussian\", n.trees = 10000,\n",
    "                   shrinkage = 0.01, interaction.depth = 4)\n",
    "summary(boost.boston)"
   ]
  },
  {
   "cell_type": "code",
   "execution_count": null,
   "metadata": {
    "collapsed": true
   },
   "outputs": [],
   "source": [
    "plot(boost.boston, i = \"lstat\")"
   ]
  },
  {
   "cell_type": "code",
   "execution_count": null,
   "metadata": {
    "collapsed": true
   },
   "outputs": [],
   "source": [
    "plot(boost.boston, i = \"rm\")"
   ]
  },
  {
   "cell_type": "code",
   "execution_count": null,
   "metadata": {},
   "outputs": [],
   "source": [
    "n.trees <- seq(100, 10000, 100)\n",
    "predmat <- predict(boost.boston, newdata = Boston[-train,], n.trees = n.trees)\n",
    "dim(predmat)"
   ]
  },
  {
   "cell_type": "code",
   "execution_count": null,
   "metadata": {
    "collapsed": true
   },
   "outputs": [],
   "source": [
    "perr <- with(Boston[-train,], apply((predmat-medv)^2, 2, mean))"
   ]
  },
  {
   "cell_type": "code",
   "execution_count": null,
   "metadata": {},
   "outputs": [],
   "source": [
    "ggplot() +\n",
    "    geom_point(mapping = aes(x = n.trees, y = perr), color = \"blue\")"
   ]
  },
  {
   "cell_type": "markdown",
   "metadata": {},
   "source": [
    "# Random forest "
   ]
  },
  {
   "cell_type": "code",
   "execution_count": null,
   "metadata": {},
   "outputs": [],
   "source": [
    "require(randomForest)\n",
    "require(MASS)"
   ]
  },
  {
   "cell_type": "code",
   "execution_count": null,
   "metadata": {
    "collapsed": true
   },
   "outputs": [],
   "source": [
    "set.seed(101)"
   ]
  },
  {
   "cell_type": "code",
   "execution_count": null,
   "metadata": {},
   "outputs": [],
   "source": [
    "dim(Boston)"
   ]
  },
  {
   "cell_type": "code",
   "execution_count": null,
   "metadata": {
    "collapsed": true
   },
   "outputs": [],
   "source": [
    "train <- sample(1:nrow(Boston), 300)"
   ]
  },
  {
   "cell_type": "code",
   "execution_count": null,
   "metadata": {
    "collapsed": true
   },
   "outputs": [],
   "source": [
    "length(train)"
   ]
  },
  {
   "cell_type": "code",
   "execution_count": null,
   "metadata": {
    "collapsed": true
   },
   "outputs": [],
   "source": [
    "rf.boston <- randomForest(medv ~ ., data = Boston, subset = train)\n",
    "str(rf.boston)"
   ]
  },
  {
   "cell_type": "code",
   "execution_count": null,
   "metadata": {
    "collapsed": true
   },
   "outputs": [],
   "source": [
    "oob.err = double(13)\n",
    "test.err = double(13)\n",
    "for (mtry in 1:13) {\n",
    "    fit <- randomForest(medv ~ ., data = Boston, subset = train, mtry = mtry, ntree = 400)\n",
    "    oob.err[mtry] <- fit$mse[400]\n",
    "    pred <- predict(fit, Boston[-train,])\n",
    "    test.err[mtry] <- with(Boston[-train,], mean((pred-medv)^2))\n",
    "    cat(mtry, \"\")\n",
    "}"
   ]
  },
  {
   "cell_type": "code",
   "execution_count": null,
   "metadata": {
    "collapsed": true
   },
   "outputs": [],
   "source": [
    "matplot(1:mtry, cbind(test.err, oob.err), pch = 19, col = c(\"red\", \"blue\"), type = \"b\")\n",
    "legend(\"topright\", legend = c(\"Test\", \"OOB\"), pch = 19, col = c(\"red\", \"blue\"))"
   ]
  }
 ],
 "metadata": {
  "kernelspec": {
   "display_name": "R",
   "language": "R",
   "name": "ir"
  },
  "language_info": {
   "codemirror_mode": "r",
   "file_extension": ".r",
   "mimetype": "text/x-r-source",
   "name": "R",
   "pygments_lexer": "r",
   "version": "3.4.0"
  }
 },
 "nbformat": 4,
 "nbformat_minor": 2
}
