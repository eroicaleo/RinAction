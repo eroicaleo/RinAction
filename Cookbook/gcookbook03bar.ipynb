{
 "cells": [
  {
   "cell_type": "code",
   "execution_count": 1,
   "metadata": {},
   "outputs": [
    {
     "name": "stderr",
     "output_type": "stream",
     "text": [
      "Warning message:\n",
      ": package ‘ggplot2’ was built under R version 3.3.2"
     ]
    }
   ],
   "source": [
    "library(ggplot2)\n",
    "library(gcookbook)\n",
    "library(plyr)"
   ]
  },
  {
   "cell_type": "markdown",
   "metadata": {},
   "source": [
    "## 3.1 Basic bar graph"
   ]
  },
  {
   "cell_type": "code",
   "execution_count": null,
   "metadata": {
    "collapsed": true
   },
   "outputs": [],
   "source": [
    "summary(pg_mean)\n",
    "str(pg_mean)"
   ]
  },
  {
   "cell_type": "code",
   "execution_count": null,
   "metadata": {
    "collapsed": true
   },
   "outputs": [],
   "source": [
    "ggplot(data = pg_mean, aes(x = group, y = weight)) + geom_bar(stat = \"identity\")"
   ]
  },
  {
   "cell_type": "code",
   "execution_count": null,
   "metadata": {
    "collapsed": true
   },
   "outputs": [],
   "source": [
    "str(BOD)"
   ]
  },
  {
   "cell_type": "code",
   "execution_count": null,
   "metadata": {
    "collapsed": true
   },
   "outputs": [],
   "source": [
    "ggplot(data = BOD, aes(x = Time, y = demand)) + geom_bar(stat = \"identity\")"
   ]
  },
  {
   "cell_type": "code",
   "execution_count": null,
   "metadata": {
    "collapsed": true
   },
   "outputs": [],
   "source": [
    "ggplot(data = BOD, aes(x = factor(Time), y = demand)) + geom_bar(stat = \"identity\")"
   ]
  },
  {
   "cell_type": "code",
   "execution_count": null,
   "metadata": {
    "collapsed": true
   },
   "outputs": [],
   "source": [
    "x <- factor(BOD$Time, ordered = TRUE)\n",
    "str(x)"
   ]
  },
  {
   "cell_type": "code",
   "execution_count": null,
   "metadata": {
    "collapsed": true
   },
   "outputs": [],
   "source": [
    "ggplot(data = pg_mean, aes(x = group, y = weight)) + geom_bar(stat = \"identity\", fill = \"lightblue\", colour = \"black\")"
   ]
  },
  {
   "cell_type": "markdown",
   "metadata": {},
   "source": [
    "## 3.2 Grouping bars"
   ]
  },
  {
   "cell_type": "code",
   "execution_count": null,
   "metadata": {
    "collapsed": true
   },
   "outputs": [],
   "source": [
    "cabbage_exp"
   ]
  },
  {
   "cell_type": "code",
   "execution_count": null,
   "metadata": {
    "collapsed": true
   },
   "outputs": [],
   "source": [
    "ggplot(data = cabbage_exp, aes(x = Date, y = Weight, fill = Cultivar)) + geom_bar(stat = \"identity\", position = \"dodge\")"
   ]
  },
  {
   "cell_type": "code",
   "execution_count": null,
   "metadata": {
    "collapsed": true
   },
   "outputs": [],
   "source": [
    "ggplot(data = cabbage_exp, aes(x = Date, y = Weight, fill = Cultivar))+ \n",
    "geom_bar(stat = \"identity\", position = \"dodge\", colour = \"black\") + scale_fill_brewer(palette = \"Pastel1\")"
   ]
  },
  {
   "cell_type": "markdown",
   "metadata": {},
   "source": [
    "## 3.3 Bar graph of counts"
   ]
  },
  {
   "cell_type": "code",
   "execution_count": null,
   "metadata": {
    "collapsed": true
   },
   "outputs": [],
   "source": [
    "str(diamonds)"
   ]
  },
  {
   "cell_type": "code",
   "execution_count": null,
   "metadata": {
    "collapsed": true
   },
   "outputs": [],
   "source": [
    "ggplot(data = diamonds, aes(x = cut)) + geom_bar()"
   ]
  },
  {
   "cell_type": "code",
   "execution_count": null,
   "metadata": {
    "collapsed": true
   },
   "outputs": [],
   "source": [
    "ggplot(data = diamonds, aes(x = carat)) + geom_bar()"
   ]
  },
  {
   "cell_type": "markdown",
   "metadata": {},
   "source": [
    "## 3.4 Using colors in bar graph"
   ]
  },
  {
   "cell_type": "code",
   "execution_count": null,
   "metadata": {
    "collapsed": true
   },
   "outputs": [],
   "source": [
    "upc <- subset(uspopchange, rank(Change) > 40)\n",
    "upc"
   ]
  },
  {
   "cell_type": "code",
   "execution_count": null,
   "metadata": {
    "collapsed": true
   },
   "outputs": [],
   "source": [
    "rank(uspopchange$Change)"
   ]
  },
  {
   "cell_type": "code",
   "execution_count": null,
   "metadata": {
    "collapsed": true
   },
   "outputs": [],
   "source": [
    "ggplot(data = upc, aes(x = Abb, y = Change, fill = Region)) + geom_bar(stat = \"identity\")"
   ]
  },
  {
   "cell_type": "code",
   "execution_count": null,
   "metadata": {
    "collapsed": true
   },
   "outputs": [],
   "source": [
    "ggplot(data = upc, aes(x = reorder(Abb, Change), y = Change, fill = Region)) + \n",
    "geom_bar(stat = \"identity\", colour = \"black\") +\n",
    "scale_fill_manual(values = c(\"#669933\", \"#FFCC66\")) +\n",
    "xlab(\"State\")"
   ]
  },
  {
   "cell_type": "markdown",
   "metadata": {},
   "source": [
    "## 3.5 Coloring positive and negative bar"
   ]
  },
  {
   "cell_type": "code",
   "execution_count": null,
   "metadata": {
    "collapsed": true
   },
   "outputs": [],
   "source": [
    "csub <- subset(climate, Source == \"Berkeley\" & Year >= 1900)"
   ]
  },
  {
   "cell_type": "code",
   "execution_count": null,
   "metadata": {
    "collapsed": true
   },
   "outputs": [],
   "source": [
    "# str(csub)\n",
    "tail(csub)\n",
    "csub$pos <- csub$Anomaly10y >= 0"
   ]
  },
  {
   "cell_type": "code",
   "execution_count": null,
   "metadata": {
    "collapsed": true
   },
   "outputs": [],
   "source": [
    "ggplot(data = csub, aes(x = Year, y = Anomaly10y, fill = pos)) + geom_bar(stat = \"identity\", position = \"identity\")"
   ]
  },
  {
   "cell_type": "code",
   "execution_count": null,
   "metadata": {
    "collapsed": true
   },
   "outputs": [],
   "source": [
    "ggplot(data = csub, aes(x = Year, y = Anomaly10y, fill = pos)) + \n",
    "geom_bar(stat = \"identity\", position = \"identity\", colour = \"black\", size = 0.25) +\n",
    "scale_fill_manual(values = c(\"#669933\", \"#FFCC66\"), guide = FALSE)"
   ]
  },
  {
   "cell_type": "markdown",
   "metadata": {},
   "source": [
    "## 3.6 Adjust bar width and space"
   ]
  },
  {
   "cell_type": "code",
   "execution_count": null,
   "metadata": {
    "collapsed": true
   },
   "outputs": [],
   "source": [
    "summary(pg_mean)\n",
    "str(pg_mean)"
   ]
  },
  {
   "cell_type": "code",
   "execution_count": null,
   "metadata": {
    "collapsed": true
   },
   "outputs": [],
   "source": [
    "ggplot(data = pg_mean, aes(x = group, y = weight)) + geom_bar(stat = \"identity\")"
   ]
  },
  {
   "cell_type": "code",
   "execution_count": null,
   "metadata": {
    "collapsed": true
   },
   "outputs": [],
   "source": [
    "ggplot(data = pg_mean, aes(x = group, y = weight)) + geom_bar(stat = \"identity\", width = 1)"
   ]
  },
  {
   "cell_type": "code",
   "execution_count": null,
   "metadata": {
    "collapsed": true
   },
   "outputs": [],
   "source": [
    "ggplot(data = pg_mean, aes(x = group, y = weight)) + geom_bar(stat = \"identity\", width = 0.5)"
   ]
  },
  {
   "cell_type": "code",
   "execution_count": null,
   "metadata": {
    "collapsed": true
   },
   "outputs": [],
   "source": [
    "ggplot(data = cabbage_exp, aes(x = Date, y = Weight, fill = Cultivar)) +\n",
    "geom_bar(stat = \"identity\", width = 0.5, position = \"dodge\")"
   ]
  },
  {
   "cell_type": "code",
   "execution_count": null,
   "metadata": {
    "collapsed": true
   },
   "outputs": [],
   "source": [
    "ggplot(data = cabbage_exp, aes(x = Date, y = Weight, fill = Cultivar)) +\n",
    "geom_bar(stat = \"identity\", width = 0.5, position = position_dodge(0.7))"
   ]
  },
  {
   "cell_type": "markdown",
   "metadata": {
    "collapsed": true
   },
   "source": [
    "## 3.7 Stack bar graph"
   ]
  },
  {
   "cell_type": "code",
   "execution_count": null,
   "metadata": {
    "collapsed": true
   },
   "outputs": [],
   "source": [
    "ggplot(data = cabbage_exp, aes(x = Date, y = Weight, fill = Cultivar)) +\n",
    "geom_bar(stat = \"identity\")"
   ]
  },
  {
   "cell_type": "code",
   "execution_count": null,
   "metadata": {
    "collapsed": true
   },
   "outputs": [],
   "source": [
    "ggplot(data = cabbage_exp, aes(x = Date, y = Weight, fill = Cultivar)) +\n",
    "geom_bar(stat = \"identity\") +\n",
    "guides(fill = guide_legend(reverse = TRUE))"
   ]
  },
  {
   "cell_type": "code",
   "execution_count": null,
   "metadata": {
    "collapsed": true
   },
   "outputs": [],
   "source": [
    "ggplot(data = cabbage_exp, aes(x = Date, y = Weight, fill = Cultivar, order = desc(Cultivar))) +\n",
    "geom_bar(stat = \"identity\")"
   ]
  },
  {
   "cell_type": "code",
   "execution_count": null,
   "metadata": {
    "collapsed": true
   },
   "outputs": [],
   "source": [
    "str(cabbage_exp$Cultivar)\n",
    "cabbage_exp$Cultivar\n",
    "cultivar = factor(c(\"c39\", \"c39\",\"c39\", \"c52\",\"c52\",\"c52\"), levels = c(\"c52\", \"c39\"))\n",
    "cultivar\n",
    "str(cultivar)\n",
    "identical(cabbage_exp$Cultivar, cultivar)"
   ]
  },
  {
   "cell_type": "code",
   "execution_count": null,
   "metadata": {
    "collapsed": true
   },
   "outputs": [],
   "source": [
    "ce <- ddply(cabbage_exp, \"Date\", transform, percentage_weight = Weight / sum(Weight) * 100)\n",
    "ce"
   ]
  },
  {
   "cell_type": "code",
   "execution_count": null,
   "metadata": {
    "collapsed": true
   },
   "outputs": [],
   "source": [
    "ggplot(data = ce, aes(x = Date, y = percentage_weight, fill = Cultivar)) +\n",
    "geom_bar(stat = \"identity\", colour = \"black\") +\n",
    "guides(fill = guide_legend(reverse = FALSE)) +\n",
    "scale_fill_brewer(palette = \"Pastel1\")\n"
   ]
  },
  {
   "cell_type": "markdown",
   "metadata": {},
   "source": [
    "## 3.8 Adding labels"
   ]
  },
  {
   "cell_type": "code",
   "execution_count": null,
   "metadata": {
    "collapsed": true
   },
   "outputs": [],
   "source": [
    "ggplot(data = cabbage_exp, aes(x = Date, y = Weight, fill = Cultivar)) +\n",
    "geom_bar(stat = \"identity\", position = \"dodge\", colour = \"black\") + \n",
    "geom_text(aes(y = Weight - 0.1, label = Weight), position = position_dodge(0.9), color = \"white\")"
   ]
  },
  {
   "cell_type": "code",
   "execution_count": null,
   "metadata": {
    "collapsed": true
   },
   "outputs": [],
   "source": [
    "ce <- arrange(cabbage_exp, Date, desc(Cultivar))\n",
    "ce <- ddply(ce, \"Date\", transform, label_y = cumsum(Weight))\n",
    "ce"
   ]
  },
  {
   "cell_type": "code",
   "execution_count": null,
   "metadata": {
    "collapsed": true
   },
   "outputs": [],
   "source": [
    "ggplot(data = ce, aes(x = Date, y = Weight, fill = Cultivar, order=desc(Cultivar))) +\n",
    "geom_bar(stat = \"identity\", colour = \"black\") + \n",
    "geom_text(aes(y = label_y - 0.1, label = Weight), color = \"white\")"
   ]
  }
 ],
 "metadata": {
  "anaconda-cloud": {},
  "kernelspec": {
   "display_name": "R",
   "language": "R",
   "name": "ir"
  },
  "language_info": {
   "codemirror_mode": "r",
   "file_extension": ".r",
   "mimetype": "text/x-r-source",
   "name": "R",
   "pygments_lexer": "r",
   "version": "3.3.1"
  }
 },
 "nbformat": 4,
 "nbformat_minor": 1
}
