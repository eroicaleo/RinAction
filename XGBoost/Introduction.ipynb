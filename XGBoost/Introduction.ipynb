{
 "cells": [
  {
   "cell_type": "markdown",
   "metadata": {},
   "source": [
    "## The walk through code of \"An Introduction to XGBoost R package\"\n",
    "[link here](http://dmlc.ml/rstats/2016/03/10/xgboost.html)"
   ]
  },
  {
   "cell_type": "code",
   "execution_count": null,
   "metadata": {
    "collapsed": true
   },
   "outputs": [],
   "source": [
    "library(xgboost)\n",
    "library(DiagrammeR)"
   ]
  },
  {
   "cell_type": "code",
   "execution_count": null,
   "metadata": {
    "collapsed": true
   },
   "outputs": [],
   "source": [
    "data(agaricus.train, package='xgboost')\n",
    "data(agaricus.test, package='xgboost')\n",
    "train <- agaricus.train\n",
    "test <- agaricus.test"
   ]
  },
  {
   "cell_type": "code",
   "execution_count": null,
   "metadata": {},
   "outputs": [],
   "source": [
    "str(train)"
   ]
  },
  {
   "cell_type": "code",
   "execution_count": null,
   "metadata": {},
   "outputs": [],
   "source": [
    "model <- xgboost(data = train$data, label = train$label,\n",
    "                 nrounds = 2, objective = \"binary:logistic\")"
   ]
  },
  {
   "cell_type": "code",
   "execution_count": null,
   "metadata": {
    "collapsed": true
   },
   "outputs": [],
   "source": [
    "preds = predict(model, test$data)"
   ]
  },
  {
   "cell_type": "code",
   "execution_count": null,
   "metadata": {},
   "outputs": [],
   "source": [
    "str(preds)"
   ]
  },
  {
   "cell_type": "code",
   "execution_count": null,
   "metadata": {},
   "outputs": [],
   "source": [
    "cv.res <- xgb.cv(data = train$data, label = train$label, nfold = 5,\n",
    "                 nrounds = 2, objective = \"binary:logistic\")"
   ]
  },
  {
   "cell_type": "code",
   "execution_count": null,
   "metadata": {
    "collapsed": true
   },
   "outputs": [],
   "source": [
    "loglossobj <- function(preds, dtrain) {\n",
    "  # dtrain is the internal format of the training data\n",
    "  # We extract the labels from the training data\n",
    "  labels <- getinfo(dtrain, \"label\")\n",
    "  # We compute the 1st and 2nd gradient, as grad and hess\n",
    "  preds <- 1/(1 + exp(-preds))\n",
    "  grad <- preds - labels\n",
    "  hess <- preds * (1 - preds)\n",
    "  # Return the result as a list\n",
    "  return(list(grad = grad, hess = hess))\n",
    "}"
   ]
  },
  {
   "cell_type": "code",
   "execution_count": null,
   "metadata": {},
   "outputs": [],
   "source": [
    "model <- xgboost(data = train$data, label = train$label,\n",
    "                 nrounds = 2, objective = loglossobj, eval_metric = \"error\")"
   ]
  },
  {
   "cell_type": "code",
   "execution_count": null,
   "metadata": {},
   "outputs": [],
   "source": [
    "bst <- xgb.cv(data = train$data, label = train$label, nfold = 5,\n",
    "              nrounds = 20, objective = \"binary:logistic\",\n",
    "              early_stopping_rounds = 3, maximize = FALSE)"
   ]
  },
  {
   "cell_type": "markdown",
   "metadata": {},
   "source": [
    "### continue Training"
   ]
  },
  {
   "cell_type": "code",
   "execution_count": null,
   "metadata": {
    "collapsed": true
   },
   "outputs": [],
   "source": [
    "dtrain <- xgb.DMatrix(train$data, label = train$label)"
   ]
  },
  {
   "cell_type": "code",
   "execution_count": null,
   "metadata": {},
   "outputs": [],
   "source": [
    "model <- xgboost(data = dtrain, nrounds = 2, objective = \"binary:logistic\")"
   ]
  },
  {
   "cell_type": "code",
   "execution_count": null,
   "metadata": {
    "collapsed": true
   },
   "outputs": [],
   "source": [
    "pred_train <- predict(model, dtrain, outputmargin=TRUE)"
   ]
  },
  {
   "cell_type": "code",
   "execution_count": null,
   "metadata": {},
   "outputs": [],
   "source": [
    "str(pred_train)"
   ]
  },
  {
   "cell_type": "code",
   "execution_count": null,
   "metadata": {},
   "outputs": [],
   "source": [
    "setinfo(dtrain, \"base_margin\", pred_train)"
   ]
  },
  {
   "cell_type": "code",
   "execution_count": null,
   "metadata": {},
   "outputs": [],
   "source": [
    "model <- xgboost(data = dtrain, nrounds = 2, objective = \"binary:logistic\")"
   ]
  },
  {
   "cell_type": "markdown",
   "metadata": {},
   "source": [
    "### Model inspection"
   ]
  },
  {
   "cell_type": "code",
   "execution_count": null,
   "metadata": {},
   "outputs": [],
   "source": [
    "bst <- xgboost(data = train$data, label = train$label, max.depth = 2,\n",
    "               eta = 1, nthread = 2, nround = 2, objective = \"binary:logistic\")\n",
    "xgb.plot.tree(feature_names = agaricus.train$data@Dimnames[[2]], model = bst)"
   ]
  }
 ],
 "metadata": {
  "kernelspec": {
   "display_name": "R",
   "language": "R",
   "name": "ir"
  },
  "language_info": {
   "codemirror_mode": "r",
   "file_extension": ".r",
   "mimetype": "text/x-r-source",
   "name": "R",
   "pygments_lexer": "r",
   "version": "3.4.0"
  }
 },
 "nbformat": 4,
 "nbformat_minor": 2
}
