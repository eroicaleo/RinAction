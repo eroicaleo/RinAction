{
 "cells": [
  {
   "cell_type": "markdown",
   "metadata": {},
   "source": [
    "## 3.1 Working with graphs"
   ]
  },
  {
   "cell_type": "code",
   "execution_count": null,
   "metadata": {
    "collapsed": false
   },
   "outputs": [],
   "source": [
    "# win.metafile() png() jpeg() bmp() tiff() xfig() postscript()\n",
    "# pdf(\"mygraph.pdf\")\n",
    "attach(mtcars)\n",
    "plot(wt, mpg)\n",
    "abline(lm(mpg ~ wt))\n",
    "title(\"Regression of MPG on Weight\")\n",
    "detach(mtcars)\n",
    "# dev.off()"
   ]
  },
  {
   "cell_type": "markdown",
   "metadata": {},
   "source": [
    "## 3.2 A simple example"
   ]
  },
  {
   "cell_type": "code",
   "execution_count": null,
   "metadata": {
    "collapsed": false
   },
   "outputs": [],
   "source": [
    "dose <- c(20, 30, 40, 45, 60)\n",
    "drugA <- c(16, 20, 27, 40, 60)\n",
    "drugB <- c(15, 18, 25, 31, 40)\n",
    "plot(dose, drugA, type = \"b\")"
   ]
  },
  {
   "cell_type": "markdown",
   "metadata": {},
   "source": [
    "`par` to display and set the variables."
   ]
  },
  {
   "cell_type": "markdown",
   "metadata": {},
   "source": [
    "## 3.3 Graphical parameters"
   ]
  },
  {
   "cell_type": "code",
   "execution_count": null,
   "metadata": {
    "collapsed": true
   },
   "outputs": [],
   "source": [
    "par(no.readonly = TRUE)"
   ]
  },
  {
   "cell_type": "code",
   "execution_count": null,
   "metadata": {
    "collapsed": false
   },
   "outputs": [],
   "source": [
    "opar <- par(no.readonly = TRUE)\n",
    "par(lty = 2, pch = 17)\n",
    "plot(dose, drugA, type = \"b\")\n",
    "par(opar)"
   ]
  },
  {
   "cell_type": "markdown",
   "metadata": {},
   "source": [
    "### 3.3.1 symbol and lines"
   ]
  },
  {
   "cell_type": "code",
   "execution_count": null,
   "metadata": {
    "collapsed": false
   },
   "outputs": [],
   "source": [
    "plot(dose, drugA, type = \"b\", lty = 3, lwd = 3, pch = 15, cex = 2)"
   ]
  },
  {
   "cell_type": "markdown",
   "metadata": {
    "collapsed": true
   },
   "source": [
    "### 3.3.2 colors"
   ]
  },
  {
   "cell_type": "code",
   "execution_count": null,
   "metadata": {
    "collapsed": true
   },
   "outputs": [],
   "source": [
    "# col for default printing color, lines and pie accepts a vector of colors\n",
    "# col = c(\"red\", \"black\") will plot 1st red, 2nd black and 3rd red and so on.\n",
    "# col.axis, col.lab, col.main (titles), col.sub (subtitles), fg, bg\n",
    "\n",
    "# col = 1, col = \"white\", col = \"#FFFFFF\", col = rgb(1, 1, 1), col = hsv(0, 0, 1)\n",
    "colors() # returns all available color names"
   ]
  },
  {
   "cell_type": "code",
   "execution_count": null,
   "metadata": {
    "collapsed": false
   },
   "outputs": [],
   "source": [
    "# These functions produce vector of colors\n",
    "rainbow(10); heat.colors(10); terrain.colors(10); topo.colors(10); cm.colors(10)\n",
    "# RColorBrewer also create palettes\n",
    "# mycolor <- brew.pal(10, \"Set1\")"
   ]
  },
  {
   "cell_type": "code",
   "execution_count": null,
   "metadata": {
    "collapsed": false
   },
   "outputs": [],
   "source": [
    "n <- 10\n",
    "mycolors <- rainbow(10)\n",
    "pie(rep(1, n), labels = mycolors, col = mycolors)\n",
    "mygray <- gray(0:n/n)\n",
    "pie(rep(1, n), labels = mygray, col = mygray)"
   ]
  }
 ],
 "metadata": {
  "anaconda-cloud": {},
  "kernelspec": {
   "display_name": "R",
   "language": "R",
   "name": "ir"
  },
  "language_info": {
   "codemirror_mode": "r",
   "file_extension": ".r",
   "mimetype": "text/x-r-source",
   "name": "R",
   "pygments_lexer": "r",
   "version": "3.3.1"
  }
 },
 "nbformat": 4,
 "nbformat_minor": 0
}
