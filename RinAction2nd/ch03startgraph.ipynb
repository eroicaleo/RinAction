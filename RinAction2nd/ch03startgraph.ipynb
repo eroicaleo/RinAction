{
 "cells": [
  {
   "cell_type": "markdown",
   "metadata": {},
   "source": [
    "## 3.1 Working with graphs"
   ]
  },
  {
   "cell_type": "code",
   "execution_count": null,
   "metadata": {
    "collapsed": false
   },
   "outputs": [],
   "source": [
    "# win.metafile() png() jpeg() bmp() tiff() xfig() postscript()\n",
    "# pdf(\"mygraph.pdf\")\n",
    "attach(mtcars)\n",
    "plot(wt, mpg)\n",
    "abline(lm(mpg ~ wt))\n",
    "title(\"Regression of MPG on Weight\")\n",
    "detach(mtcars)\n",
    "# dev.off()"
   ]
  },
  {
   "cell_type": "markdown",
   "metadata": {},
   "source": [
    "## 3.2 A simple example"
   ]
  },
  {
   "cell_type": "code",
   "execution_count": null,
   "metadata": {
    "collapsed": false
   },
   "outputs": [],
   "source": [
    "dose <- c(20, 30, 40, 45, 60)\n",
    "drugA <- c(16, 20, 27, 40, 60)\n",
    "drugB <- c(15, 18, 25, 31, 40)\n",
    "plot(dose, drugA, type = \"b\")"
   ]
  },
  {
   "cell_type": "markdown",
   "metadata": {},
   "source": [
    "`par` to display and set the variables."
   ]
  },
  {
   "cell_type": "markdown",
   "metadata": {},
   "source": [
    "## 3.3 Graphical parameters"
   ]
  },
  {
   "cell_type": "code",
   "execution_count": null,
   "metadata": {
    "collapsed": true
   },
   "outputs": [],
   "source": [
    "par(no.readonly = TRUE)"
   ]
  },
  {
   "cell_type": "code",
   "execution_count": null,
   "metadata": {
    "collapsed": false
   },
   "outputs": [],
   "source": [
    "opar <- par(no.readonly = TRUE)\n",
    "par(lty = 2, pch = 17)\n",
    "plot(dose, drugA, type = \"b\")\n",
    "par(opar)"
   ]
  },
  {
   "cell_type": "markdown",
   "metadata": {},
   "source": [
    "### 3.3.1 symbol and lines"
   ]
  },
  {
   "cell_type": "code",
   "execution_count": null,
   "metadata": {
    "collapsed": false
   },
   "outputs": [],
   "source": [
    "plot(dose, drugA, type = \"b\", lty = 3, lwd = 3, pch = 15, cex = 2)"
   ]
  },
  {
   "cell_type": "markdown",
   "metadata": {
    "collapsed": true
   },
   "source": [
    "### 3.3.2 colors"
   ]
  },
  {
   "cell_type": "code",
   "execution_count": null,
   "metadata": {
    "collapsed": true
   },
   "outputs": [],
   "source": [
    "# col for default printing color, lines and pie accepts a vector of colors\n",
    "# col = c(\"red\", \"black\") will plot 1st red, 2nd black and 3rd red and so on.\n",
    "# col.axis, col.lab, col.main (titles), col.sub (subtitles), fg, bg\n",
    "\n",
    "# col = 1, col = \"white\", col = \"#FFFFFF\", col = rgb(1, 1, 1), col = hsv(0, 0, 1)\n",
    "colors() # returns all available color names"
   ]
  },
  {
   "cell_type": "code",
   "execution_count": null,
   "metadata": {
    "collapsed": false
   },
   "outputs": [],
   "source": [
    "# These functions produce vector of colors\n",
    "rainbow(10); heat.colors(10); terrain.colors(10); topo.colors(10); cm.colors(10)\n",
    "# RColorBrewer also create palettes\n",
    "# mycolor <- brew.pal(10, \"Set1\")"
   ]
  },
  {
   "cell_type": "code",
   "execution_count": null,
   "metadata": {
    "collapsed": false
   },
   "outputs": [],
   "source": [
    "n <- 10\n",
    "mycolors <- rainbow(10)\n",
    "pie(rep(1, n), labels = mycolors, col = mycolors)\n",
    "mygray <- gray(0:n/n)\n",
    "pie(rep(1, n), labels = mygray, col = mygray)"
   ]
  },
  {
   "cell_type": "markdown",
   "metadata": {},
   "source": [
    "### 3.3.3 Text characteristics"
   ]
  },
  {
   "cell_type": "code",
   "execution_count": null,
   "metadata": {
    "collapsed": true
   },
   "outputs": [],
   "source": [
    "# cex for the main plot, I think it means the mark size, cex = 1.5 means 50% bigger and 0.5 means 50% smaller\n",
    "# We also has cex.axis, cex.lab, cex.main, cex.sub"
   ]
  },
  {
   "cell_type": "code",
   "execution_count": null,
   "metadata": {
    "collapsed": true
   },
   "outputs": [],
   "source": [
    "# font to specify the style: 1 plain, 2 bold, 3 italic, 4 bold italic\n",
    "# We also have *.axis, lab, main, sub"
   ]
  },
  {
   "cell_type": "code",
   "execution_count": null,
   "metadata": {
    "collapsed": false
   },
   "outputs": [],
   "source": [
    "# family to sepecify font family\n",
    "# Report the fonts available to plot\n",
    "names(pdfFonts())\n",
    "names(quartzFonts()) # Mac\n",
    "names(postscriptFonts())"
   ]
  },
  {
   "cell_type": "code",
   "execution_count": null,
   "metadata": {
    "collapsed": false
   },
   "outputs": [],
   "source": [
    "plot(dose, drugA, type = \"b\", font = 4, family = \"mono\", font.lab = 3, main = \"lala\", font.main = 3,\n",
    "    cex = 3, cex.lab= 2, cex.main = 0.5, sub = \"hehe\")"
   ]
  },
  {
   "cell_type": "markdown",
   "metadata": {},
   "source": [
    "### 3.3.4 margin"
   ]
  },
  {
   "cell_type": "code",
   "execution_count": null,
   "metadata": {
    "collapsed": false
   },
   "outputs": [],
   "source": [
    "dose  <- c(20, 30, 40, 45, 60)\n",
    "drugA <- c(16, 20, 27, 40, 60)\n",
    "drugB <- c(15, 18, 25, 31, 40)\n",
    "opar <- par(no.readonly=TRUE)\n",
    "par(pin=c(2, 3))\n",
    "par(lwd=2, cex=1.5)\n",
    "par(cex.axis=.75, font.axis=3)\n",
    "plot(dose, drugA, type=\"b\", pch=19, lty=2, col=\"red\")\n",
    "plot(dose, drugB, type=\"b\", pch=23, lty=6, col=\"blue\", bg=\"green\")\n",
    "par(opar)"
   ]
  },
  {
   "cell_type": "markdown",
   "metadata": {},
   "source": [
    "## 3.4 Adding Text"
   ]
  },
  {
   "cell_type": "code",
   "execution_count": null,
   "metadata": {
    "collapsed": true
   },
   "outputs": [],
   "source": [
    "# main, sub, xlab, ylab, xlim, ylim\n",
    "# Use"
   ]
  },
  {
   "cell_type": "code",
   "execution_count": null,
   "metadata": {
    "collapsed": false
   },
   "outputs": [],
   "source": [
    "plot(dose, drugA, type=\"b\",\n",
    "     col=\"red\", lty=2, pch=2, lwd=2,\n",
    "     main=\"Clinical Trials for Drug A\",\n",
    "     sub=\"This is hypothetical data\",\n",
    "     xlab=\"Dosage\", ylab=\"Drug Response\",\n",
    "     xlim=c(0, 60), ylim=c(0, 70))\n",
    "title(main=\"My Title\", col.main=\"red\",\n",
    "              sub=\"My Subtitle\", col.sub=\"blue\",\n",
    "              xlab=\"My X label\", ylab=\"My Y label\",\n",
    "              col.lab=\"green\", cex.lab=0.75)"
   ]
  },
  {
   "cell_type": "markdown",
   "metadata": {},
   "source": [
    "## 3.4.2 Axes"
   ]
  },
  {
   "cell_type": "code",
   "execution_count": null,
   "metadata": {
    "collapsed": false
   },
   "outputs": [],
   "source": [
    "# Suppress axes annotation\n",
    "# axes=False, xaxt=\"n\", yaxt=\"n\", ann=\"FALSE\" (The axes name)\n",
    "x <- c(1:10)\n",
    "y <- x\n",
    "z <- 10/x\n",
    "opar <- par(no.readonly = TRUE)\n",
    "par(mar = c(5, 4, 4, 8) + 0.1)\n",
    "plot(x, y, type = \"b\", lty = 3, col = \"red\", yaxt = \"n\", ann = FALSE)\n",
    "lines(x, z, type = \"b\", lty = 2, col = \"blue\", pch = 22)\n",
    "axis(side = 2, at = y, col.axis = \"red\", las = 2)\n",
    "axis(side = 4, at = z, labels = round(z, 2), col.axis = \"blue\", las = 2, cex.axis = 0.5)\n",
    "mtext(\"y=1/x\", side = 4, las = 2, cex.axis = 1.0, line = 3, col = \"blue\")\n",
    "par(opar)"
   ]
  },
  {
   "cell_type": "code",
   "execution_count": null,
   "metadata": {
    "collapsed": false
   },
   "outputs": [],
   "source": [
    "plot(dose, drugA, type=\"b\")\n",
    "abline(h = c(30, 40, 50))"
   ]
  },
  {
   "cell_type": "code",
   "execution_count": null,
   "metadata": {
    "collapsed": true
   },
   "outputs": [],
   "source": []
  }
 ],
 "metadata": {
  "anaconda-cloud": {},
  "kernelspec": {
   "display_name": "R",
   "language": "R",
   "name": "ir"
  },
  "language_info": {
   "codemirror_mode": "r",
   "file_extension": ".r",
   "mimetype": "text/x-r-source",
   "name": "R",
   "pygments_lexer": "r",
   "version": "3.3.1"
  }
 },
 "nbformat": 4,
 "nbformat_minor": 0
}
