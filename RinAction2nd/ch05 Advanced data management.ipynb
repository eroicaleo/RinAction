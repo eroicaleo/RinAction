{
 "cells": [
  {
   "cell_type": "markdown",
   "metadata": {},
   "source": [
    "## 5.2 Numeric and character function"
   ]
  },
  {
   "cell_type": "code",
   "execution_count": null,
   "metadata": {
    "collapsed": true
   },
   "outputs": [],
   "source": [
    "# 5.2.1 list a summarize table for mathmatic functions\n",
    "# 5.2.2 list a summarize table for statistic funcitons\n",
    "# 5.2.3 list a summarize table for probablity funcitons\n",
    "# d/p/q/r: density/distribution/quantile/random generation\n",
    "# set.seed for random generation\n",
    "# MASS.mvrnorm to generate multivariable norm data\n",
    "# 5.2.4 list a summarize table for character functions\n",
    "# 5.2.5 Ohter useful functions: length, seq, rep, cut, pretty"
   ]
  },
  {
   "cell_type": "code",
   "execution_count": null,
   "metadata": {},
   "outputs": [],
   "source": [
    "c <- seq(1, 8)\n",
    "c"
   ]
  },
  {
   "cell_type": "code",
   "execution_count": null,
   "metadata": {},
   "outputs": [],
   "source": [
    "mean(c)"
   ]
  },
  {
   "cell_type": "code",
   "execution_count": null,
   "metadata": {},
   "outputs": [],
   "source": [
    "sd(c)"
   ]
  },
  {
   "cell_type": "code",
   "execution_count": null,
   "metadata": {
    "collapsed": true
   },
   "outputs": [],
   "source": [
    "x <- seq(1, 8)\n",
    "n <- length(x)"
   ]
  },
  {
   "cell_type": "code",
   "execution_count": null,
   "metadata": {},
   "outputs": [],
   "source": [
    "meanx <- sum(x)/n\n",
    "meanx"
   ]
  },
  {
   "cell_type": "code",
   "execution_count": null,
   "metadata": {},
   "outputs": [],
   "source": [
    "ccs <- sum((x - meanx)^2)\n",
    "ccs"
   ]
  },
  {
   "cell_type": "code",
   "execution_count": null,
   "metadata": {},
   "outputs": [],
   "source": [
    "sdx <- sqrt(ccs / (n-1))\n",
    "sdx"
   ]
  },
  {
   "cell_type": "code",
   "execution_count": null,
   "metadata": {},
   "outputs": [],
   "source": [
    "x <- pretty(c(-3, 3), 30)\n",
    "x"
   ]
  },
  {
   "cell_type": "code",
   "execution_count": null,
   "metadata": {},
   "outputs": [],
   "source": [
    "y <- dnorm(x)\n",
    "plot(x, y, type = \"l\", xlab = \"Normal Deviate\", ylab = \"Density\", yaxs = \"i\")"
   ]
  },
  {
   "cell_type": "code",
   "execution_count": null,
   "metadata": {},
   "outputs": [],
   "source": [
    "set.seed(20121228)\n",
    "runif(5)"
   ]
  },
  {
   "cell_type": "code",
   "execution_count": null,
   "metadata": {},
   "outputs": [],
   "source": [
    "set.seed(20121228)\n",
    "runif(5)"
   ]
  },
  {
   "cell_type": "code",
   "execution_count": null,
   "metadata": {
    "collapsed": true
   },
   "outputs": [],
   "source": [
    "library(MASS)"
   ]
  },
  {
   "cell_type": "code",
   "execution_count": null,
   "metadata": {},
   "outputs": [],
   "source": [
    "options(digits = 3)\n",
    "set.seed(1234)\n",
    "mean <- c(230.7, 146.7, 3.6)\n",
    "sigma <- matrix(c(15360.8, 6721.2, -47.1,\n",
    "                     6721.2, 4700.9, -16.5,\n",
    "                      -47.1,  -16.5,   0.3), nrow=3, ncol=3)\n",
    "mydata <- mvrnorm(n = 500, mu = mean, Sigma = sigma)\n",
    "mydata <- as.data.frame(mydata)\n",
    "names(mydata) <- c(\"y\", \"x1\", \"x2\")\n",
    "str(mydata)\n",
    "summary(mydata)\n",
    "head(mydata)"
   ]
  },
  {
   "cell_type": "markdown",
   "metadata": {},
   "source": [
    "### 5.2.4 char functions"
   ]
  },
  {
   "cell_type": "code",
   "execution_count": null,
   "metadata": {},
   "outputs": [],
   "source": [
    "paste(\"A\", 1:3, \"\")"
   ]
  },
  {
   "cell_type": "code",
   "execution_count": null,
   "metadata": {},
   "outputs": [],
   "source": [
    "paste(\"A\", 1:3, \"M\")"
   ]
  },
  {
   "cell_type": "markdown",
   "metadata": {},
   "source": [
    "## 5.3 example"
   ]
  },
  {
   "cell_type": "code",
   "execution_count": null,
   "metadata": {
    "collapsed": true
   },
   "outputs": [],
   "source": [
    "Student <- c(\"John Davis\", \"Angela Williams\", \"Bullwinkle Moose\",\n",
    "\"David Jones\", \"Janice Markhammer\", \"Cheryl Cushing\",\n",
    "\"Reuven Ytzrhak\", \"Greg Knox\", \"Joel England\",\n",
    "\"Mary Rayburn\")\n",
    "Math <- c(502, 600, 412, 358, 495, 512, 410, 625, 573, 522)\n",
    "Science <- c(95, 99, 80, 82, 75, 85, 80, 95, 89, 86)\n",
    "English <- c(25, 22, 18, 15, 20, 28, 15, 30, 27, 18)\n",
    "roster <- data.frame(Student, Math, Science, English)"
   ]
  },
  {
   "cell_type": "code",
   "execution_count": null,
   "metadata": {},
   "outputs": [],
   "source": [
    "summary(roster)"
   ]
  },
  {
   "cell_type": "code",
   "execution_count": null,
   "metadata": {},
   "outputs": [],
   "source": [
    "z <- scale(roster[, 2:4])\n",
    "score <- apply(z, 1, mean)\n",
    "score\n",
    "roster <- transform(roster, score = score)\n",
    "roster"
   ]
  },
  {
   "cell_type": "code",
   "execution_count": null,
   "metadata": {},
   "outputs": [],
   "source": [
    "y <- quantile(score, c(.8, .6, .4, .2))\n",
    "y"
   ]
  },
  {
   "cell_type": "code",
   "execution_count": null,
   "metadata": {},
   "outputs": [],
   "source": [
    "roster <- transform(roster, grade = score)\n",
    "roster$grade[roster$score > y[1]] <- \"A\"\n",
    "roster$grade[roster$score > y[2] & roster$score <= y[1]] <- \"B\"\n",
    "roster$grade[roster$score > y[3] & roster$score <= y[2]] <- \"C\"\n",
    "roster$grade[roster$score > y[4] & roster$score <= y[3]] <- \"D\"\n",
    "roster$grade[roster$score <= y[4]] <- \"F\"\n",
    "\n",
    "roster"
   ]
  },
  {
   "cell_type": "markdown",
   "metadata": {},
   "source": [
    "## 5.4 conditional"
   ]
  },
  {
   "cell_type": "code",
   "execution_count": 1,
   "metadata": {},
   "outputs": [
    {
     "name": "stdout",
     "output_type": "stream",
     "text": [
      "[1] \"Passed\"\n"
     ]
    },
    {
     "data": {
      "text/html": [
       "'Passed'"
      ],
      "text/latex": [
       "'Passed'"
      ],
      "text/markdown": [
       "'Passed'"
      ],
      "text/plain": [
       "[1] \"Passed\""
      ]
     },
     "metadata": {},
     "output_type": "display_data"
    }
   ],
   "source": [
    "score <- 1.0\n",
    "ifelse(score > 0.5, print(\"Passed\"), print(\"Failed\"))"
   ]
  },
  {
   "cell_type": "code",
   "execution_count": 2,
   "metadata": {},
   "outputs": [
    {
     "name": "stdout",
     "output_type": "stream",
     "text": [
      "[1] \"Passed\"\n"
     ]
    }
   ],
   "source": [
    "outcome <- ifelse(score > 0.5, \"Passed\", \"Failed\")\n",
    "print(outcome)"
   ]
  },
  {
   "cell_type": "code",
   "execution_count": 6,
   "metadata": {},
   "outputs": [
    {
     "name": "stdout",
     "output_type": "stream",
     "text": [
      "[1] \"cheer up\"\n",
      "[1] \"nothing to fear\"\n",
      "[1] \"haha\"\n"
     ]
    }
   ],
   "source": [
    "feelings <- c(\"sad\", \"afraid\", \"dont know\")\n",
    "for (i in feelings) {\n",
    "    print(\n",
    "        switch(i,\n",
    "              happy = \"I am glad\",\n",
    "              afraid = \"nothing to fear\",\n",
    "              sad = \"cheer up\",\n",
    "              angry = \"calm down\",\n",
    "              \"haha\"\n",
    "        )\n",
    "    )\n",
    "}"
   ]
  }
 ],
 "metadata": {
  "kernelspec": {
   "display_name": "R",
   "language": "R",
   "name": "ir"
  },
  "language_info": {
   "codemirror_mode": "r",
   "file_extension": ".r",
   "mimetype": "text/x-r-source",
   "name": "R",
   "pygments_lexer": "r",
   "version": "3.3.1"
  }
 },
 "nbformat": 4,
 "nbformat_minor": 2
}
