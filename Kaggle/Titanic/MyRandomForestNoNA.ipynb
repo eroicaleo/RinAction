{
 "cells": [
  {
   "cell_type": "code",
   "execution_count": null,
   "metadata": {},
   "outputs": [],
   "source": [
    "library(tidyverse)\n",
    "library(mice)\n",
    "library(randomForest)"
   ]
  },
  {
   "cell_type": "code",
   "execution_count": null,
   "metadata": {},
   "outputs": [],
   "source": [
    "# Load the data and use Megan Risdal's method to replace NA with meaningful values\n",
    "set.seed(20121228)\n",
    "train <- read.csv(\"train.csv\", stringsAsFactors = FALSE)\n",
    "test <- read.csv(\"test.csv\", stringsAsFactors = FALSE)\n",
    "full <- bind_rows(train, test)\n",
    "full$Embarked[c(62, 830)] <- 'C'\n",
    "full$Fare[1044] <- 8.05\n",
    "factor_vars <- c('Pclass','Sex','Embarked','Survived')\n",
    "full[factor_vars] <- lapply(full[factor_vars], function(x) as.factor(x))\n",
    "mice_mod <- mice(full[, !names(full) %in% c('PassengerId','Name','Ticket','Cabin','Survived')], method='rf')\n",
    "mice_output <- complete(mice_mod)\n",
    "full$Age <- mice_output$Age\n",
    "summary(full)"
   ]
  },
  {
   "cell_type": "code",
   "execution_count": null,
   "metadata": {
    "collapsed": true
   },
   "outputs": [],
   "source": [
    "train_nona <- subset(full, !is.na(Survived))\n",
    "test_nona <- subset(full, is.na(Survived))"
   ]
  },
  {
   "cell_type": "code",
   "execution_count": null,
   "metadata": {},
   "outputs": [],
   "source": [
    "drops <- c(\"PassengerId\", \"Name\", \"Cabin\", \"Ticket\")\n",
    "train_nona <- train_nona[, !(names(train_nona) %in% drops)]\n",
    "train_row <- sample(1:nrow(train_nona), floor(0.7 * nrow(train_nona)))"
   ]
  },
  {
   "cell_type": "code",
   "execution_count": null,
   "metadata": {},
   "outputs": [],
   "source": [
    "nf <- ncol(train_nona) - 1\n",
    "n_valid <- nrow(train_nona[-train_row,])\n",
    "n_train <- nrow(train_nona[train_row,])\n",
    "train.err = double(nf)\n",
    "valid.err = double(nf)\n",
    "for (mtry in 1:nf) {\n",
    "    fit <- randomForest(Survived ~ ., data = train_nona, subset = train_row, mtry = mtry, ntree = 500)\n",
    "    # oob.err[mtry] <- fit$mse[500]\n",
    "    pred <- predict(fit, train_nona[-train_row,])\n",
    "    valid.err[mtry] <- with(train_nona[-train_row,], sum(pred != Survived) / n_valid)\n",
    "    pred <- predict(fit, train_nona[train_row,])\n",
    "    train.err[mtry] <- with(train_nona[train_row, ], sum(pred != Survived) / n_train)\n",
    "    cat(mtry, \"\")\n",
    "}"
   ]
  },
  {
   "cell_type": "code",
   "execution_count": null,
   "metadata": {},
   "outputs": [],
   "source": [
    "valid.err\n",
    "train.err"
   ]
  },
  {
   "cell_type": "code",
   "execution_count": null,
   "metadata": {},
   "outputs": [],
   "source": [
    "err <- data.frame(nf = 1:nf, valid = valid.err, train = train.err)\n",
    "ggplot(data = err) +\n",
    "    geom_point(mapping = aes(x = nf, y = valid)) +\n",
    "    geom_line(mapping = aes(x = nf, y = valid)) +\n",
    "    geom_point(mapping = aes(x = nf, y = train), color = \"red\") +\n",
    "    geom_line(mapping = aes(x = nf, y = train), color = \"red\") +\n",
    "    xlab(\"# of features used in each split\") + ylab(\"error\")"
   ]
  },
  {
   "cell_type": "code",
   "execution_count": null,
   "metadata": {
    "collapsed": true
   },
   "outputs": [],
   "source": [
    "# Train the model on full train set\n",
    "rf.titanic <- randomForest(Survived ~ ., data = train_nona, mtry = 3, ntree = 500)"
   ]
  },
  {
   "cell_type": "code",
   "execution_count": null,
   "metadata": {},
   "outputs": [],
   "source": [
    "test_nona <- test_nona[ , !(names(test_nona) %in% drops)]\n",
    "pred <- predict(rf.titanic, test_nona)"
   ]
  },
  {
   "cell_type": "code",
   "execution_count": null,
   "metadata": {},
   "outputs": [],
   "source": [
    "result.titanic <- data.frame(PassengerId = 892:1309, Survived = as.numeric(pred) - 1)\n",
    "sum(is.na(result.titanic$Survived))"
   ]
  },
  {
   "cell_type": "code",
   "execution_count": null,
   "metadata": {
    "collapsed": true
   },
   "outputs": [],
   "source": [
    "write.csv(result.titanic, file = \"my_random_forest_3_nona_validation.csv\", row.names = FALSE)"
   ]
  }
 ],
 "metadata": {
  "kernelspec": {
   "display_name": "R",
   "language": "R",
   "name": "ir"
  },
  "language_info": {
   "codemirror_mode": "r",
   "file_extension": ".r",
   "mimetype": "text/x-r-source",
   "name": "R",
   "pygments_lexer": "r",
   "version": "3.4.0"
  }
 },
 "nbformat": 4,
 "nbformat_minor": 2
}
