{
 "cells": [
  {
   "cell_type": "code",
   "execution_count": null,
   "metadata": {},
   "outputs": [],
   "source": [
    "require(randomForest)"
   ]
  },
  {
   "cell_type": "markdown",
   "metadata": {},
   "source": [
    "## Score board\n",
    "\n",
    "| No.   | score   |\n",
    "| :---: | :---:   |\n",
    "| 1     | 0.75120 |\n",
    "| 2     | 0.75598 |\n",
    "\n",
    "\n",
    "First try is even worse than the lady first approach."
   ]
  },
  {
   "cell_type": "markdown",
   "metadata": {},
   "source": [
    "## To improve\n",
    "\n",
    "* Below I ignored Embarked, because in training data, some Embark is NA\n",
    "  but in test data, Embark is all available, so the factor they give are different, randomForest cannot work with it.\n",
    "  * This has been fixed, I just ignored the training data \n",
    "* I ignored \"Name\"/\"Cabin\"/\"Ticket\" because they are more than 53 level, which randomForest can not handle.\n",
    "* There are some training data with NA entry, I ignored in the training, might need to include them\n",
    "* Try to figure out why some of the predictions are NA"
   ]
  },
  {
   "cell_type": "code",
   "execution_count": null,
   "metadata": {},
   "outputs": [],
   "source": [
    "train <- read.csv(\"train.csv\")\n",
    "# train.nona <- na.omit(train)\n",
    "# drops <- c(\"PassengerId\", \"Name\", \"Cabin\", \"Ticket\", \"Embarked\")\n",
    "drops <- c(\"PassengerId\", \"Name\", \"Cabin\", \"Ticket\")\n",
    "train <- transform(train, Survived = as.factor(Survived))\n",
    "train <- train[ , !(names(train) %in% drops)]\n",
    "train <- subset(train, Embarked != \"\")\n",
    "train <- transform(train, Embarked = as.factor(as.character(Embarked)))\n",
    "# train <- train[train$Embarked != \"\",]\n",
    "summary(train)"
   ]
  },
  {
   "cell_type": "code",
   "execution_count": null,
   "metadata": {},
   "outputs": [],
   "source": [
    "e <- train$Embarked\n",
    "str(e)"
   ]
  },
  {
   "cell_type": "code",
   "execution_count": null,
   "metadata": {
    "collapsed": true
   },
   "outputs": [],
   "source": [
    "rf.titanic <- randomForest(Survived ~ ., data = train, na.action = na.omit)"
   ]
  },
  {
   "cell_type": "code",
   "execution_count": null,
   "metadata": {},
   "outputs": [],
   "source": [
    "test <- read.csv(\"test.csv\")\n",
    "test <- transform(test, Survived = 0)\n",
    "test[1, \"Survived\"] <- 1\n",
    "test <- transform(test, Survived = as.factor(Survived))\n",
    "test <- test[ , !(names(test) %in% drops)]\n",
    "summary(test)"
   ]
  },
  {
   "cell_type": "code",
   "execution_count": null,
   "metadata": {},
   "outputs": [],
   "source": [
    "pred <- predict(rf.titanic, test)\n",
    "str(pred)"
   ]
  },
  {
   "cell_type": "code",
   "execution_count": null,
   "metadata": {
    "collapsed": true
   },
   "outputs": [],
   "source": [
    "result.titanic <- data.frame(PassengerId = 892:1309, Survived = as.numeric(pred) - 1)"
   ]
  },
  {
   "cell_type": "code",
   "execution_count": null,
   "metadata": {},
   "outputs": [],
   "source": [
    "summary(result.titanic)\n",
    "str(result.titanic)\n",
    "head(result.titanic)"
   ]
  },
  {
   "cell_type": "markdown",
   "metadata": {},
   "source": [
    "* We can see quite a bit prediction is NA, so assume they are all not survived\n",
    "* might be improved here:\n",
    "* Try to figure out why they are NA first"
   ]
  },
  {
   "cell_type": "code",
   "execution_count": null,
   "metadata": {},
   "outputs": [],
   "source": [
    "sum(is.na(result.titanic$Survived))\n",
    "result.titanic$Survived[is.na(result.titanic$Survived)] <- 0"
   ]
  },
  {
   "cell_type": "code",
   "execution_count": null,
   "metadata": {
    "collapsed": true
   },
   "outputs": [],
   "source": [
    "result.titanic"
   ]
  },
  {
   "cell_type": "code",
   "execution_count": null,
   "metadata": {},
   "outputs": [],
   "source": [
    "write.csv(result.titanic, file = \"my_random_forest_2.csv\", row.names = FALSE)"
   ]
  },
  {
   "cell_type": "markdown",
   "metadata": {},
   "source": [
    "### The following part is trying to find out why some prediction"
   ]
  }
 ],
 "metadata": {
  "kernelspec": {
   "display_name": "R",
   "language": "R",
   "name": "ir"
  },
  "language_info": {
   "codemirror_mode": "r",
   "file_extension": ".r",
   "mimetype": "text/x-r-source",
   "name": "R",
   "pygments_lexer": "r",
   "version": "3.4.0"
  }
 },
 "nbformat": 4,
 "nbformat_minor": 2
}
