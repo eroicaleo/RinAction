{
 "cells": [
  {
   "cell_type": "code",
   "execution_count": null,
   "metadata": {},
   "outputs": [],
   "source": [
    "require(randomForest)"
   ]
  },
  {
   "cell_type": "markdown",
   "metadata": {},
   "source": [
    "## Score board\n",
    "\n",
    "| No.   | score   |\n",
    "| :---: | :---:   |\n",
    "| 1     | 0.75120 |\n",
    "| 2     | 0.75598 |\n",
    "\n",
    "\n",
    "* First try is even worse than the lady first approach.\n",
    "* Second try is with \"Embarked\" feature."
   ]
  },
  {
   "cell_type": "markdown",
   "metadata": {},
   "source": [
    "## To improve\n",
    "\n",
    "* Below I ignored Embarked, because in training data, some Embark is NA\n",
    "  but in test data, Embark is all available, so the factor they give are different, randomForest cannot work with it.\n",
    "  * This has been fixed, I just ignored the training data \n",
    "* I ignored \"Name\"/\"Cabin\"/\"Ticket\" because they are more than 53 level, which randomForest can not handle.\n",
    "* There are some training data with NA entry, I ignored in the training, might need to include them\n",
    "* Try to figure out why some of the predictions are NA"
   ]
  },
  {
   "cell_type": "code",
   "execution_count": null,
   "metadata": {},
   "outputs": [],
   "source": [
    "set.seed(20121228)\n",
    "train <- read.csv(\"train.csv\")\n",
    "# train.nona <- na.omit(train)\n",
    "# drops <- c(\"PassengerId\", \"Name\", \"Cabin\", \"Ticket\", \"Embarked\")\n",
    "drops <- c(\"PassengerId\", \"Name\", \"Cabin\", \"Ticket\")\n",
    "train <- transform(train, Survived = as.factor(Survived))\n",
    "train <- train[ , !(names(train) %in% drops)]\n",
    "train <- subset(train, Embarked != \"\")\n",
    "train <- transform(train, Embarked = as.factor(as.character(Embarked)))\n",
    "# train <- train[train$Embarked != \"\",]\n",
    "summary(train)"
   ]
  },
  {
   "cell_type": "code",
   "execution_count": null,
   "metadata": {
    "collapsed": true
   },
   "outputs": [],
   "source": [
    "# This is for checking the \"Embarked\" feature\n",
    "# e <- train$Embarked\n",
    "# str(e)"
   ]
  },
  {
   "cell_type": "code",
   "execution_count": null,
   "metadata": {
    "collapsed": true
   },
   "outputs": [],
   "source": [
    "# There are about 889 rows, take 720 of them as training, the rest for validation\n",
    "train_row <- sample(1:nrow(train), 720)"
   ]
  },
  {
   "cell_type": "code",
   "execution_count": null,
   "metadata": {},
   "outputs": [],
   "source": [
    "# rf.titanic <- randomForest(Survived ~ ., data = train, na.action = na.omit, subset = train_row)\n",
    "rf.titanic <- randomForest(Survived ~ ., data = train, na.action = na.omit, subset = train_row)"
   ]
  },
  {
   "cell_type": "code",
   "execution_count": null,
   "metadata": {},
   "outputs": [],
   "source": [
    "# Check the data structure\n",
    "str(rf.titanic)"
   ]
  },
  {
   "cell_type": "code",
   "execution_count": null,
   "metadata": {},
   "outputs": [],
   "source": [
    "train[train_row[c(2,4)],]"
   ]
  },
  {
   "cell_type": "code",
   "execution_count": null,
   "metadata": {},
   "outputs": [],
   "source": [
    "sum(train[names(rf.titanic$predicted), ]$Survived == rf.titanic$predicted) / length(rf.titanic$predicted)"
   ]
  },
  {
   "cell_type": "code",
   "execution_count": null,
   "metadata": {},
   "outputs": [],
   "source": [
    "# The explanation of\n",
    "getTree(rf.titanic, 1)"
   ]
  },
  {
   "cell_type": "code",
   "execution_count": null,
   "metadata": {},
   "outputs": [],
   "source": [
    "res <- predict(rf.titanic, train[train_row[2],], predict.all = TRUE, )\n",
    "str(res)"
   ]
  },
  {
   "cell_type": "markdown",
   "metadata": {},
   "source": [
    "## Make the prediction on training data"
   ]
  },
  {
   "cell_type": "code",
   "execution_count": null,
   "metadata": {},
   "outputs": [],
   "source": [
    "pred_train <- predict(rf.titanic, train[train_row,])\n",
    "sum(is.na(pred_train))\n",
    "head(pred_train)\n",
    "pred_train[is.na(pred_train)] <- 0\n",
    "print(\"Correct rate on training set: \")\n",
    "rate <- with(data = train[train_row,], sum(Survived == pred_train) / length(pred_train))\n",
    "print(rate)\n",
    "length(pred_train)"
   ]
  },
  {
   "cell_type": "markdown",
   "metadata": {},
   "source": [
    "## Make the prediction on validation data"
   ]
  },
  {
   "cell_type": "code",
   "execution_count": null,
   "metadata": {},
   "outputs": [],
   "source": [
    "pred_validation <- predict(rf.titanic, train[-train_row,])\n",
    "length(pred_validation)\n",
    "sum(is.na(pred_validation))\n",
    "pred_validation[is.na(pred_validation)] <- 0\n",
    "res_validation <- train$Survived[-train_row]\n",
    "# pred_validation <- as.numeric(pred_validation) - 1\n",
    "# pred_validation\n",
    "# res_validation\n",
    "print(\"Correct rate on validation set: \")\n",
    "print(sum(res_validation == pred_validation) / length(res_validation))"
   ]
  },
  {
   "cell_type": "markdown",
   "metadata": {},
   "source": [
    "## Make the prediction on test data "
   ]
  },
  {
   "cell_type": "code",
   "execution_count": null,
   "metadata": {
    "collapsed": true
   },
   "outputs": [],
   "source": [
    "test <- read.csv(\"test.csv\")\n",
    "test <- transform(test, Survived = 0)\n",
    "test[1, \"Survived\"] <- 1\n",
    "test <- transform(test, Survived = as.factor(Survived))\n",
    "test <- test[ , !(names(test) %in% drops)]\n",
    "summary(test)"
   ]
  },
  {
   "cell_type": "code",
   "execution_count": null,
   "metadata": {
    "collapsed": true
   },
   "outputs": [],
   "source": [
    "pred <- predict(rf.titanic, test)\n",
    "str(pred)"
   ]
  },
  {
   "cell_type": "code",
   "execution_count": null,
   "metadata": {
    "collapsed": true
   },
   "outputs": [],
   "source": [
    "result.titanic <- data.frame(PassengerId = 892:1309, Survived = as.numeric(pred) - 1)"
   ]
  },
  {
   "cell_type": "code",
   "execution_count": null,
   "metadata": {
    "collapsed": true
   },
   "outputs": [],
   "source": [
    "summary(result.titanic)\n",
    "str(result.titanic)\n",
    "head(result.titanic)"
   ]
  },
  {
   "cell_type": "markdown",
   "metadata": {},
   "source": [
    "* We can see quite a bit prediction is NA, so assume they are all not survived\n",
    "* might be improved here:\n",
    "* Try to figure out why they are NA first"
   ]
  },
  {
   "cell_type": "code",
   "execution_count": null,
   "metadata": {
    "collapsed": true
   },
   "outputs": [],
   "source": [
    "sum(is.na(result.titanic$Survived))\n",
    "result.titanic$Survived[is.na(result.titanic$Survived)] <- 0"
   ]
  },
  {
   "cell_type": "code",
   "execution_count": null,
   "metadata": {
    "collapsed": true
   },
   "outputs": [],
   "source": [
    "result.titanic"
   ]
  },
  {
   "cell_type": "code",
   "execution_count": null,
   "metadata": {
    "collapsed": true
   },
   "outputs": [],
   "source": [
    "write.csv(result.titanic, file = \"my_random_forest_2.csv\", row.names = FALSE)"
   ]
  },
  {
   "cell_type": "markdown",
   "metadata": {},
   "source": [
    "### The following part is trying to find out why some prediction is NA"
   ]
  },
  {
   "cell_type": "markdown",
   "metadata": {},
   "source": [
    "The reason looks pretty simple, there is \"NA\" in the training set."
   ]
  }
 ],
 "metadata": {
  "kernelspec": {
   "display_name": "R",
   "language": "R",
   "name": "ir"
  },
  "language_info": {
   "codemirror_mode": "r",
   "file_extension": ".r",
   "mimetype": "text/x-r-source",
   "name": "R",
   "pygments_lexer": "r",
   "version": "3.4.0"
  }
 },
 "nbformat": 4,
 "nbformat_minor": 2
}
