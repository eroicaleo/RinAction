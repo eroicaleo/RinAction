{
 "cells": [
  {
   "cell_type": "markdown",
   "metadata": {},
   "source": [
    "# Lecture 01\n",
    "\n",
    "The first thing to do is **not** running through\n",
    "a fancy algorithm, make some graph and plots first.\n"
   ]
  },
  {
   "cell_type": "markdown",
   "metadata": {},
   "source": [
    "# Lecture 02"
   ]
  },
  {
   "cell_type": "markdown",
   "metadata": {},
   "source": [
    "## Objectives\n",
    "\n",
    "* Accurate predict unseen test cases\n",
    "* Understand which inputs affect outputs and how\n",
    "* Access the quality of our predictions and inferences\n",
    "\n",
    "## Philosophy\n",
    "\n",
    "* Know when and how to use what techniques\n",
    "* Understand simple methods first and then sophisticated ones\n",
    "* Accurately assess the performance of a method, how well and how badly\n",
    "\n",
    "## Unsupervised learning\n",
    "\n",
    "* No outcome\n",
    "* Fuzzy objective\n",
    "* can be useful as pre-processing step for supervised learning\n",
    "\n",
    "## Statistical Learning V.S. Machine Learning\n",
    "\n",
    "* ML: large scale applications and prediction accuracy\n",
    "* SL: Models and their interpretability, precision and uncertainty??\n",
    "\n",
    "## Done"
   ]
  },
  {
   "cell_type": "markdown",
   "metadata": {},
   "source": [
    "# Lecture 03"
   ]
  },
  {
   "cell_type": "markdown",
   "metadata": {},
   "source": [
    "## Notation\n",
    "\n",
    "* response: Y; feature, input: X\n",
    "\n",
    "$$Y = f(X)+\\epsilon$$\n",
    "\n",
    "## What is f(X) good for\n",
    "\n",
    "* predict on new points\n",
    "* Can tell Which components are important\n",
    "* Maybe can tell how each component affects Y\n",
    "\n",
    "## The regression function f(x)\n",
    "\n",
    "$$f(x) = f(x_1, x_2, x_3) = E(Y|X=x)$$\n",
    "\n",
    "* Reducible and Irreducible: Var(e)\n",
    "\n",
    "## How to estimate f(x)\n",
    "\n",
    "* Use neighborhood of x: N(x)\n",
    "\n",
    "## Done"
   ]
  },
  {
   "cell_type": "markdown",
   "metadata": {},
   "source": [
    "# Lecture 04"
   ]
  },
  {
   "cell_type": "markdown",
   "metadata": {},
   "source": [
    "## The curse of dimension\n",
    "\n",
    "* The drawback of the above method:\n",
    "* We want to reduce variance, so choose certain percent of data points, say 10%.\n",
    "* Whe dimension p is large, the radius can be large\n",
    "\n",
    "## Parametric and structured models\n",
    "\n",
    "* Linear model, quadratic model\n",
    "* thin-plate splines averaging (later ch. 7), can be overfitting with bad parameter.\n",
    "\n",
    "## Trade-off\n",
    "\n",
    "* prediction accuracy v.s. interpretability\n",
    "* good v.s. under v.s. over fit\n",
    "* Parsimony (simpler model) v.s. blackbox (use all variables)\n",
    "\n",
    "## Done"
   ]
  },
  {
   "cell_type": "markdown",
   "metadata": {
    "collapsed": true
   },
   "source": [
    "# Lecture 05"
   ]
  },
  {
   "cell_type": "markdown",
   "metadata": {},
   "source": [
    "## Accessing Model Accuracy\n",
    "\n",
    "average squared prediction error\n",
    "\n",
    "* on training data, then biased towards overfit model\n",
    "* on testing data, better\n",
    "\n",
    "## Bias-Variance Trade-off\n",
    "\n",
    "$$E(y-\\hat{f}(x_0))^2 = Var(\\hat{f}(x_0)) + [Bias(\\hat{f}(x_0))]^2 + var(\\epsilon)$$\n",
    "\n",
    "Note that x_0 is a test data, why f hat x_0 is a random varible?\n",
    "Here, method is fix but training data can vary according some probablity.\n",
    "\n",
    "So bias is defined as the following:\n",
    "\n",
    "$$E(\\hat{f}(x_0)) - f(x_0)$$\n",
    "\n",
    "More flexible model, less bias but more variance"
   ]
  },
  {
   "cell_type": "markdown",
   "metadata": {},
   "source": [
    "# Lecture 06"
   ]
  },
  {
   "cell_type": "markdown",
   "metadata": {},
   "source": [
    "## Classification\n",
    "\n",
    "Neighborhood approach can also work for low dimension.\n",
    "\n",
    "* SVM build structure model for C(X), the classifier\n",
    "* logistic regression, generalized additive model, build the structure model for the probability p_k(x)\n",
    "\n",
    "## Nearest  Neighbor\n",
    "\n",
    "K small, high variance, K large, high bias."
   ]
  },
  {
   "cell_type": "markdown",
   "metadata": {},
   "source": [
    "# Lecture 3.1"
   ]
  },
  {
   "cell_type": "markdown",
   "metadata": {},
   "source": [
    "## Linear regression\n",
    "\n",
    "* Simple is good, useful both in conceptually and practically\n",
    "\n",
    "## Question to ask (Applicable to all algorithm I think)\n",
    "\n",
    "* Is there a relation between a predictor and the response\n",
    "* How strong is the relationship?\n",
    "* How accurately can we predict future?\n",
    "* Is the relationship linear?\n",
    "* Is there synergy among predictor?\n",
    "\n",
    "## Accessing the accuracy of the coefficient estimates\n",
    "\n",
    "* SE(\\beta_1) depends on and reversely depends on the spread of X.\n",
    "    * When we select X, it's good to spread X to get good extimation of slope.\n",
    "* Confidence interval 95%"
   ]
  },
  {
   "cell_type": "markdown",
   "metadata": {},
   "source": [
    "# Lecture 3.2\n",
    "\n",
    "## Hypothesis testing\n",
    "\n",
    "Null hypothesis: There is no relationship between X and Y, H_0\n",
    "Alternative hypothesis: There is some relation.\n",
    "\n",
    "* Compute t-statistics\n",
    "* Then compute p-value\n",
    "\n",
    "## Assessing the overall accuracy of the model\n",
    "\n",
    "* Residual standard error\n",
    "* R-squared"
   ]
  },
  {
   "cell_type": "markdown",
   "metadata": {},
   "source": [
    "# Lecture 3.3\n",
    "\n",
    "## Multiple Linear Regression\n",
    "\n",
    "* A regression coefficient beta_j estimates the expected change in Y per unit\n",
    "  change in X_j, with all other predictors held fixed. BUT predictors usually change together\n",
    "\n",
    "* The only way to find out what will happen when a complex system is disturbed\n",
    "  is to disturb the system, not merely to observe it passively."
   ]
  }
 ],
 "metadata": {
  "anaconda-cloud": {},
  "kernelspec": {
   "display_name": "R",
   "language": "R",
   "name": "ir"
  },
  "language_info": {
   "codemirror_mode": "r",
   "file_extension": ".r",
   "mimetype": "text/x-r-source",
   "name": "R",
   "pygments_lexer": "r",
   "version": "3.3.1"
  }
 },
 "nbformat": 4,
 "nbformat_minor": 2
}
