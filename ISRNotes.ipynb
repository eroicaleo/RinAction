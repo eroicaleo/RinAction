{
 "cells": [
  {
   "cell_type": "markdown",
   "metadata": {},
   "source": [
    "# Lecture 01\n",
    "\n",
    "The first thing to do is **not** running through\n",
    "a fancy algorithm, make some graph and plots first.\n"
   ]
  },
  {
   "cell_type": "markdown",
   "metadata": {},
   "source": [
    "# Lecture 02"
   ]
  },
  {
   "cell_type": "markdown",
   "metadata": {},
   "source": [
    "## Objectives\n",
    "\n",
    "* Accurate predict unseen test cases\n",
    "* Understand which inputs affect outputs and how\n",
    "* Access the quality of our predictions and inferences\n",
    "\n",
    "## Philosophy\n",
    "\n",
    "* Know when and how to use what techniques\n",
    "* Understand simple methods first and then sophisticated ones\n",
    "* Accurately assess the performance of a method, how well and how badly\n",
    "\n",
    "## Unsupervised learning\n",
    "\n",
    "* No outcome\n",
    "* Fuzzy objective\n",
    "* can be useful as pre-processing step for supervised learning\n",
    "\n",
    "## Statistical Learning V.S. Machine Learning\n",
    "\n",
    "* ML: large scale applications and prediction accuracy\n",
    "* SL: Models and their interpretability, precision and uncertainty??\n",
    "\n",
    "## Done"
   ]
  }
 ],
 "metadata": {
  "anaconda-cloud": {},
  "kernelspec": {
   "display_name": "R",
   "language": "R",
   "name": "ir"
  },
  "language_info": {
   "codemirror_mode": "r",
   "file_extension": ".r",
   "mimetype": "text/x-r-source",
   "name": "R",
   "pygments_lexer": "r",
   "version": "3.3.1"
  }
 },
 "nbformat": 4,
 "nbformat_minor": 2
}
